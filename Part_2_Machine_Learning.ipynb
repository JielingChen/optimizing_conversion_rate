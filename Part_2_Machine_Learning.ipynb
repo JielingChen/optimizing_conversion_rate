{
  "nbformat": 4,
  "nbformat_minor": 0,
  "metadata": {
    "colab": {
      "provenance": [],
      "authorship_tag": "ABX9TyPOTQBQ1hX/znv/7TtZEAWw",
      "include_colab_link": true
    },
    "kernelspec": {
      "name": "python3",
      "display_name": "Python 3"
    },
    "language_info": {
      "name": "python"
    }
  },
  "cells": [
    {
      "cell_type": "markdown",
      "metadata": {
        "id": "view-in-github",
        "colab_type": "text"
      },
      "source": [
        "<a href=\"https://colab.research.google.com/github/JielingChen/optimizing_conversion_rate/blob/main/Optimizing_Conversion_Rate_Part_2_Machine_Learning.ipynb\" target=\"_parent\"><img src=\"https://colab.research.google.com/assets/colab-badge.svg\" alt=\"Open In Colab\"/></a>"
      ]
    },
    {
      "cell_type": "markdown",
      "source": [
        "# Description\n",
        "We have data about users who hit our site: whether they converted or not as well as some of their characteristics such as their country, the marketing channel, their age, whether they are repeat users and the number of pages visited during that session (as a proxy for site activity/time spent on site).  \n",
        "\n",
        "# Goal\n",
        "The goal of this project:\n",
        "* __Build a model that predicts conversion rate__\n",
        "* __Come up with recommendations for the product team and the marketing team to improve conversion rate__\n",
        "\n",
        "# Data\n",
        "Columns:\n",
        "* `country` : user country based on the IP address\n",
        "* `age` : user age. Self-reported at sign-in step\n",
        "* `new_user` : whether the user created the account during this session or had already an account and simply came back to the site\n",
        "* `source` : marketing channel source\n",
        "  1. Ads: came to the site by clicking on an advertisement\n",
        "  2. Seo: came to the site by clicking on search results\n",
        "  3. Direct: came to the site by directly typing the URL on the browser\n",
        "* `total_pages_visited`: number of total pages visited during the session. This is a proxy for time spent on site and engagement during the session.\n",
        "* `converted`: this is our label. 1 means they converted within the session, 0 means they left without buying anything. The company goal is to increase conversion rate: # conversions / total sessions."
      ],
      "metadata": {
        "id": "ukYe5-gMuXRD"
      }
    },
    {
      "cell_type": "markdown",
      "source": [
        "__This notebook is the second part of this project.__  "
      ],
      "metadata": {
        "id": "3BBEu604udfL"
      }
    },
    {
      "cell_type": "markdown",
      "source": [
        "## 0. Importing Data Set"
      ],
      "metadata": {
        "id": "7-fPfqZQ2vUM"
      }
    },
    {
      "cell_type": "code",
      "source": [
        "# import libraries\n",
        "import pandas as pd\n",
        "import numpy as np\n",
        "import matplotlib.pyplot as plt\n",
        "import seaborn as sns"
      ],
      "metadata": {
        "id": "0PSddcUN56lp"
      },
      "execution_count": 15,
      "outputs": []
    },
    {
      "cell_type": "code",
      "source": [
        "# read data\n",
        "data = pd.read_csv('/content/conversion_data.csv')\n",
        "print(len(data))\n",
        "data.head()"
      ],
      "metadata": {
        "colab": {
          "base_uri": "https://localhost:8080/",
          "height": 221
        },
        "id": "6UpO7Pc27FVE",
        "outputId": "56572f5d-b680-4d40-e2a3-cde17136c8d9"
      },
      "execution_count": 16,
      "outputs": [
        {
          "output_type": "stream",
          "name": "stdout",
          "text": [
            "316200\n"
          ]
        },
        {
          "output_type": "execute_result",
          "data": {
            "text/plain": [
              "  country  age  new_user source  total_pages_visited  converted\n",
              "0      UK   25         1    Ads                    1          0\n",
              "1      US   23         1    Seo                    5          0\n",
              "2      US   28         1    Seo                    4          0\n",
              "3   China   39         1    Seo                    5          0\n",
              "4      US   30         1    Seo                    6          0"
            ],
            "text/html": [
              "\n",
              "  <div id=\"df-90dab138-a2e5-44ad-92cb-83449000bcab\">\n",
              "    <div class=\"colab-df-container\">\n",
              "      <div>\n",
              "<style scoped>\n",
              "    .dataframe tbody tr th:only-of-type {\n",
              "        vertical-align: middle;\n",
              "    }\n",
              "\n",
              "    .dataframe tbody tr th {\n",
              "        vertical-align: top;\n",
              "    }\n",
              "\n",
              "    .dataframe thead th {\n",
              "        text-align: right;\n",
              "    }\n",
              "</style>\n",
              "<table border=\"1\" class=\"dataframe\">\n",
              "  <thead>\n",
              "    <tr style=\"text-align: right;\">\n",
              "      <th></th>\n",
              "      <th>country</th>\n",
              "      <th>age</th>\n",
              "      <th>new_user</th>\n",
              "      <th>source</th>\n",
              "      <th>total_pages_visited</th>\n",
              "      <th>converted</th>\n",
              "    </tr>\n",
              "  </thead>\n",
              "  <tbody>\n",
              "    <tr>\n",
              "      <th>0</th>\n",
              "      <td>UK</td>\n",
              "      <td>25</td>\n",
              "      <td>1</td>\n",
              "      <td>Ads</td>\n",
              "      <td>1</td>\n",
              "      <td>0</td>\n",
              "    </tr>\n",
              "    <tr>\n",
              "      <th>1</th>\n",
              "      <td>US</td>\n",
              "      <td>23</td>\n",
              "      <td>1</td>\n",
              "      <td>Seo</td>\n",
              "      <td>5</td>\n",
              "      <td>0</td>\n",
              "    </tr>\n",
              "    <tr>\n",
              "      <th>2</th>\n",
              "      <td>US</td>\n",
              "      <td>28</td>\n",
              "      <td>1</td>\n",
              "      <td>Seo</td>\n",
              "      <td>4</td>\n",
              "      <td>0</td>\n",
              "    </tr>\n",
              "    <tr>\n",
              "      <th>3</th>\n",
              "      <td>China</td>\n",
              "      <td>39</td>\n",
              "      <td>1</td>\n",
              "      <td>Seo</td>\n",
              "      <td>5</td>\n",
              "      <td>0</td>\n",
              "    </tr>\n",
              "    <tr>\n",
              "      <th>4</th>\n",
              "      <td>US</td>\n",
              "      <td>30</td>\n",
              "      <td>1</td>\n",
              "      <td>Seo</td>\n",
              "      <td>6</td>\n",
              "      <td>0</td>\n",
              "    </tr>\n",
              "  </tbody>\n",
              "</table>\n",
              "</div>\n",
              "      <button class=\"colab-df-convert\" onclick=\"convertToInteractive('df-90dab138-a2e5-44ad-92cb-83449000bcab')\"\n",
              "              title=\"Convert this dataframe to an interactive table.\"\n",
              "              style=\"display:none;\">\n",
              "        \n",
              "  <svg xmlns=\"http://www.w3.org/2000/svg\" height=\"24px\"viewBox=\"0 0 24 24\"\n",
              "       width=\"24px\">\n",
              "    <path d=\"M0 0h24v24H0V0z\" fill=\"none\"/>\n",
              "    <path d=\"M18.56 5.44l.94 2.06.94-2.06 2.06-.94-2.06-.94-.94-2.06-.94 2.06-2.06.94zm-11 1L8.5 8.5l.94-2.06 2.06-.94-2.06-.94L8.5 2.5l-.94 2.06-2.06.94zm10 10l.94 2.06.94-2.06 2.06-.94-2.06-.94-.94-2.06-.94 2.06-2.06.94z\"/><path d=\"M17.41 7.96l-1.37-1.37c-.4-.4-.92-.59-1.43-.59-.52 0-1.04.2-1.43.59L10.3 9.45l-7.72 7.72c-.78.78-.78 2.05 0 2.83L4 21.41c.39.39.9.59 1.41.59.51 0 1.02-.2 1.41-.59l7.78-7.78 2.81-2.81c.8-.78.8-2.07 0-2.86zM5.41 20L4 18.59l7.72-7.72 1.47 1.35L5.41 20z\"/>\n",
              "  </svg>\n",
              "      </button>\n",
              "      \n",
              "  <style>\n",
              "    .colab-df-container {\n",
              "      display:flex;\n",
              "      flex-wrap:wrap;\n",
              "      gap: 12px;\n",
              "    }\n",
              "\n",
              "    .colab-df-convert {\n",
              "      background-color: #E8F0FE;\n",
              "      border: none;\n",
              "      border-radius: 50%;\n",
              "      cursor: pointer;\n",
              "      display: none;\n",
              "      fill: #1967D2;\n",
              "      height: 32px;\n",
              "      padding: 0 0 0 0;\n",
              "      width: 32px;\n",
              "    }\n",
              "\n",
              "    .colab-df-convert:hover {\n",
              "      background-color: #E2EBFA;\n",
              "      box-shadow: 0px 1px 2px rgba(60, 64, 67, 0.3), 0px 1px 3px 1px rgba(60, 64, 67, 0.15);\n",
              "      fill: #174EA6;\n",
              "    }\n",
              "\n",
              "    [theme=dark] .colab-df-convert {\n",
              "      background-color: #3B4455;\n",
              "      fill: #D2E3FC;\n",
              "    }\n",
              "\n",
              "    [theme=dark] .colab-df-convert:hover {\n",
              "      background-color: #434B5C;\n",
              "      box-shadow: 0px 1px 3px 1px rgba(0, 0, 0, 0.15);\n",
              "      filter: drop-shadow(0px 1px 2px rgba(0, 0, 0, 0.3));\n",
              "      fill: #FFFFFF;\n",
              "    }\n",
              "  </style>\n",
              "\n",
              "      <script>\n",
              "        const buttonEl =\n",
              "          document.querySelector('#df-90dab138-a2e5-44ad-92cb-83449000bcab button.colab-df-convert');\n",
              "        buttonEl.style.display =\n",
              "          google.colab.kernel.accessAllowed ? 'block' : 'none';\n",
              "\n",
              "        async function convertToInteractive(key) {\n",
              "          const element = document.querySelector('#df-90dab138-a2e5-44ad-92cb-83449000bcab');\n",
              "          const dataTable =\n",
              "            await google.colab.kernel.invokeFunction('convertToInteractive',\n",
              "                                                     [key], {});\n",
              "          if (!dataTable) return;\n",
              "\n",
              "          const docLinkHtml = 'Like what you see? Visit the ' +\n",
              "            '<a target=\"_blank\" href=https://colab.research.google.com/notebooks/data_table.ipynb>data table notebook</a>'\n",
              "            + ' to learn more about interactive tables.';\n",
              "          element.innerHTML = '';\n",
              "          dataTable['output_type'] = 'display_data';\n",
              "          await google.colab.output.renderOutput(dataTable, element);\n",
              "          const docLink = document.createElement('div');\n",
              "          docLink.innerHTML = docLinkHtml;\n",
              "          element.appendChild(docLink);\n",
              "        }\n",
              "      </script>\n",
              "    </div>\n",
              "  </div>\n",
              "  "
            ]
          },
          "metadata": {},
          "execution_count": 16
        }
      ]
    },
    {
      "cell_type": "code",
      "source": [
        "# remove the out of range data\n",
        "data = data[data['age'] < 100]\n",
        "len(data)"
      ],
      "metadata": {
        "colab": {
          "base_uri": "https://localhost:8080/"
        },
        "id": "7PORSmpT7Oy9",
        "outputId": "1ede2b15-65fe-457a-9e23-75a60d894ba6"
      },
      "execution_count": 17,
      "outputs": [
        {
          "output_type": "execute_result",
          "data": {
            "text/plain": [
              "316198"
            ]
          },
          "metadata": {},
          "execution_count": 17
        }
      ]
    },
    {
      "cell_type": "markdown",
      "source": [
        "## 1. Defining the Problem\n",
        "Since our first goal is to predict the conversion rate, which can be translated into predicting whether a specific user will convert or not, we can define our problem as a __binary classification problem.__"
      ],
      "metadata": {
        "id": "hLgobZbf1h78"
      }
    },
    {
      "cell_type": "markdown",
      "source": [
        "## 2. Machine Learning Models\n",
        "The logistic regression model is a common model for benchmarking performance for a binary classification problem.  \n",
        "\n",
        "Logistic Regression is a linear model. The model learns a set of weights that are used to make predictions about the probability of the outcome. The model makes predictions using the logistic function, which maps the input data to a range of 0 to 1. This range represents the probability of the outcome, with 0 representing a low probability and 1 representing a high probability. The weights are learned using an optimization algorithm, such as gradient descent, that minimizes the error between the predicted probabilities and the true outcomes. It's a great choice for generating a baseline for any binary classification problem.\n",
        "\n",
        "We will use the logistic regression model to predict the conversion rate.\n"
      ],
      "metadata": {
        "id": "QyKM9kLQi-G0"
      }
    },
    {
      "cell_type": "markdown",
      "source": [
        "## 3. Preprocessing Data for Machine Learning"
      ],
      "metadata": {
        "id": "C5CPHnTSlwhs"
      }
    },
    {
      "cell_type": "markdown",
      "source": [
        "### 3.1 Data Format"
      ],
      "metadata": {
        "id": "7Xn7LInEuh1P"
      }
    },
    {
      "cell_type": "markdown",
      "source": [
        "Since we are going to use scikit-learn to do machine learning, firstly we need to make sure the data set meets the requirements of scikit-learn:\n",
        "* No missing values\n",
        "* Data in numeric format\n",
        "* Data stored in pandas DataFrame or Numpy array"
      ],
      "metadata": {
        "id": "yRrZvlOKlz78"
      }
    },
    {
      "cell_type": "markdown",
      "source": [
        "#### 3.1.1 Missing Data"
      ],
      "metadata": {
        "id": "pxWsn2rg4G1T"
      }
    },
    {
      "cell_type": "code",
      "source": [
        "# Check if there are any null values\n",
        "data.isna().any()"
      ],
      "metadata": {
        "colab": {
          "base_uri": "https://localhost:8080/"
        },
        "id": "ztdCK_s13unC",
        "outputId": "183c4abe-bb5a-4427-8bf2-ff0f287fbd49"
      },
      "execution_count": 18,
      "outputs": [
        {
          "output_type": "execute_result",
          "data": {
            "text/plain": [
              "country                False\n",
              "age                    False\n",
              "new_user               False\n",
              "source                 False\n",
              "total_pages_visited    False\n",
              "converted              False\n",
              "dtype: bool"
            ]
          },
          "metadata": {},
          "execution_count": 18
        }
      ]
    },
    {
      "cell_type": "markdown",
      "source": [
        "As we have already seen in part 1, we don't have any missing data in our data set."
      ],
      "metadata": {
        "id": "B2DuTOiX4OAF"
      }
    },
    {
      "cell_type": "markdown",
      "source": [
        "#### 3.1.2 Categorical Data\n",
        "Categorical variables can be encoded in a variety of ways:\n",
        "* __One-hot encoding:__ This method creates a new binary column for each category and encodes the categories as 0 or 1. In One-hot encoding each category will have its own weight that can be observed after training. But we must be aware that One-hot encoding may create features that are entirely collinear due to the same information being represented multiple times.\n",
        "\n",
        "* __Dummy encoding:__ This method is very similar to One-hot encoding, but only creates n-1 features for n categories, omitting the first category. It can represent necessary information without duplication.\n",
        "* __Ordinal encoding:__ This method encodes each category as a unique integer. This can be useful if the categorical variable has a natural ordering, as the integers will capture the ordinal relationship between the categories. For example, if a categorical variable has three categories low, medium and high, it could be encoded as 1, 2 and 3 respectively. However, it is important to note that the integer values have a meaningful order, and they should not be treated as continuous variables.\n",
        "* __Binary encoding:__ This method encodes each category as a binary vector, with the vector elements representing the presence or absence of a particular category. This can be a more efficient encoding than one-hot encoding, as it results in a lower-dimensional dataset."
      ],
      "metadata": {
        "id": "LijiKyeMInYd"
      }
    },
    {
      "cell_type": "markdown",
      "source": [
        "Since our categorical features are `country` and `source`, with 4 and 3 different categories respectively and no ordinal pattern, we can use One-hot encoding which will allow us to observe the coefficients for every category after training."
      ],
      "metadata": {
        "id": "WIhP6zQvFhoC"
      }
    },
    {
      "cell_type": "code",
      "source": [
        "# encode the categorical data\n",
        "data = pd.get_dummies(data, prefix=['C', 'S'], columns=['country', 'source'])\n",
        "data.head()"
      ],
      "metadata": {
        "colab": {
          "base_uri": "https://localhost:8080/",
          "height": 204
        },
        "id": "dME3VaMKI5Q4",
        "outputId": "d3095f29-f103-4304-8b87-a7737360380c"
      },
      "execution_count": 19,
      "outputs": [
        {
          "output_type": "execute_result",
          "data": {
            "text/plain": [
              "   age  new_user  total_pages_visited  converted  C_China  C_Germany  C_UK  \\\n",
              "0   25         1                    1          0        0          0     1   \n",
              "1   23         1                    5          0        0          0     0   \n",
              "2   28         1                    4          0        0          0     0   \n",
              "3   39         1                    5          0        1          0     0   \n",
              "4   30         1                    6          0        0          0     0   \n",
              "\n",
              "   C_US  S_Ads  S_Direct  S_Seo  \n",
              "0     0      1         0      0  \n",
              "1     1      0         0      1  \n",
              "2     1      0         0      1  \n",
              "3     0      0         0      1  \n",
              "4     1      0         0      1  "
            ],
            "text/html": [
              "\n",
              "  <div id=\"df-7669c4de-56c7-4ca1-8c28-44c8293c174f\">\n",
              "    <div class=\"colab-df-container\">\n",
              "      <div>\n",
              "<style scoped>\n",
              "    .dataframe tbody tr th:only-of-type {\n",
              "        vertical-align: middle;\n",
              "    }\n",
              "\n",
              "    .dataframe tbody tr th {\n",
              "        vertical-align: top;\n",
              "    }\n",
              "\n",
              "    .dataframe thead th {\n",
              "        text-align: right;\n",
              "    }\n",
              "</style>\n",
              "<table border=\"1\" class=\"dataframe\">\n",
              "  <thead>\n",
              "    <tr style=\"text-align: right;\">\n",
              "      <th></th>\n",
              "      <th>age</th>\n",
              "      <th>new_user</th>\n",
              "      <th>total_pages_visited</th>\n",
              "      <th>converted</th>\n",
              "      <th>C_China</th>\n",
              "      <th>C_Germany</th>\n",
              "      <th>C_UK</th>\n",
              "      <th>C_US</th>\n",
              "      <th>S_Ads</th>\n",
              "      <th>S_Direct</th>\n",
              "      <th>S_Seo</th>\n",
              "    </tr>\n",
              "  </thead>\n",
              "  <tbody>\n",
              "    <tr>\n",
              "      <th>0</th>\n",
              "      <td>25</td>\n",
              "      <td>1</td>\n",
              "      <td>1</td>\n",
              "      <td>0</td>\n",
              "      <td>0</td>\n",
              "      <td>0</td>\n",
              "      <td>1</td>\n",
              "      <td>0</td>\n",
              "      <td>1</td>\n",
              "      <td>0</td>\n",
              "      <td>0</td>\n",
              "    </tr>\n",
              "    <tr>\n",
              "      <th>1</th>\n",
              "      <td>23</td>\n",
              "      <td>1</td>\n",
              "      <td>5</td>\n",
              "      <td>0</td>\n",
              "      <td>0</td>\n",
              "      <td>0</td>\n",
              "      <td>0</td>\n",
              "      <td>1</td>\n",
              "      <td>0</td>\n",
              "      <td>0</td>\n",
              "      <td>1</td>\n",
              "    </tr>\n",
              "    <tr>\n",
              "      <th>2</th>\n",
              "      <td>28</td>\n",
              "      <td>1</td>\n",
              "      <td>4</td>\n",
              "      <td>0</td>\n",
              "      <td>0</td>\n",
              "      <td>0</td>\n",
              "      <td>0</td>\n",
              "      <td>1</td>\n",
              "      <td>0</td>\n",
              "      <td>0</td>\n",
              "      <td>1</td>\n",
              "    </tr>\n",
              "    <tr>\n",
              "      <th>3</th>\n",
              "      <td>39</td>\n",
              "      <td>1</td>\n",
              "      <td>5</td>\n",
              "      <td>0</td>\n",
              "      <td>1</td>\n",
              "      <td>0</td>\n",
              "      <td>0</td>\n",
              "      <td>0</td>\n",
              "      <td>0</td>\n",
              "      <td>0</td>\n",
              "      <td>1</td>\n",
              "    </tr>\n",
              "    <tr>\n",
              "      <th>4</th>\n",
              "      <td>30</td>\n",
              "      <td>1</td>\n",
              "      <td>6</td>\n",
              "      <td>0</td>\n",
              "      <td>0</td>\n",
              "      <td>0</td>\n",
              "      <td>0</td>\n",
              "      <td>1</td>\n",
              "      <td>0</td>\n",
              "      <td>0</td>\n",
              "      <td>1</td>\n",
              "    </tr>\n",
              "  </tbody>\n",
              "</table>\n",
              "</div>\n",
              "      <button class=\"colab-df-convert\" onclick=\"convertToInteractive('df-7669c4de-56c7-4ca1-8c28-44c8293c174f')\"\n",
              "              title=\"Convert this dataframe to an interactive table.\"\n",
              "              style=\"display:none;\">\n",
              "        \n",
              "  <svg xmlns=\"http://www.w3.org/2000/svg\" height=\"24px\"viewBox=\"0 0 24 24\"\n",
              "       width=\"24px\">\n",
              "    <path d=\"M0 0h24v24H0V0z\" fill=\"none\"/>\n",
              "    <path d=\"M18.56 5.44l.94 2.06.94-2.06 2.06-.94-2.06-.94-.94-2.06-.94 2.06-2.06.94zm-11 1L8.5 8.5l.94-2.06 2.06-.94-2.06-.94L8.5 2.5l-.94 2.06-2.06.94zm10 10l.94 2.06.94-2.06 2.06-.94-2.06-.94-.94-2.06-.94 2.06-2.06.94z\"/><path d=\"M17.41 7.96l-1.37-1.37c-.4-.4-.92-.59-1.43-.59-.52 0-1.04.2-1.43.59L10.3 9.45l-7.72 7.72c-.78.78-.78 2.05 0 2.83L4 21.41c.39.39.9.59 1.41.59.51 0 1.02-.2 1.41-.59l7.78-7.78 2.81-2.81c.8-.78.8-2.07 0-2.86zM5.41 20L4 18.59l7.72-7.72 1.47 1.35L5.41 20z\"/>\n",
              "  </svg>\n",
              "      </button>\n",
              "      \n",
              "  <style>\n",
              "    .colab-df-container {\n",
              "      display:flex;\n",
              "      flex-wrap:wrap;\n",
              "      gap: 12px;\n",
              "    }\n",
              "\n",
              "    .colab-df-convert {\n",
              "      background-color: #E8F0FE;\n",
              "      border: none;\n",
              "      border-radius: 50%;\n",
              "      cursor: pointer;\n",
              "      display: none;\n",
              "      fill: #1967D2;\n",
              "      height: 32px;\n",
              "      padding: 0 0 0 0;\n",
              "      width: 32px;\n",
              "    }\n",
              "\n",
              "    .colab-df-convert:hover {\n",
              "      background-color: #E2EBFA;\n",
              "      box-shadow: 0px 1px 2px rgba(60, 64, 67, 0.3), 0px 1px 3px 1px rgba(60, 64, 67, 0.15);\n",
              "      fill: #174EA6;\n",
              "    }\n",
              "\n",
              "    [theme=dark] .colab-df-convert {\n",
              "      background-color: #3B4455;\n",
              "      fill: #D2E3FC;\n",
              "    }\n",
              "\n",
              "    [theme=dark] .colab-df-convert:hover {\n",
              "      background-color: #434B5C;\n",
              "      box-shadow: 0px 1px 3px 1px rgba(0, 0, 0, 0.15);\n",
              "      filter: drop-shadow(0px 1px 2px rgba(0, 0, 0, 0.3));\n",
              "      fill: #FFFFFF;\n",
              "    }\n",
              "  </style>\n",
              "\n",
              "      <script>\n",
              "        const buttonEl =\n",
              "          document.querySelector('#df-7669c4de-56c7-4ca1-8c28-44c8293c174f button.colab-df-convert');\n",
              "        buttonEl.style.display =\n",
              "          google.colab.kernel.accessAllowed ? 'block' : 'none';\n",
              "\n",
              "        async function convertToInteractive(key) {\n",
              "          const element = document.querySelector('#df-7669c4de-56c7-4ca1-8c28-44c8293c174f');\n",
              "          const dataTable =\n",
              "            await google.colab.kernel.invokeFunction('convertToInteractive',\n",
              "                                                     [key], {});\n",
              "          if (!dataTable) return;\n",
              "\n",
              "          const docLinkHtml = 'Like what you see? Visit the ' +\n",
              "            '<a target=\"_blank\" href=https://colab.research.google.com/notebooks/data_table.ipynb>data table notebook</a>'\n",
              "            + ' to learn more about interactive tables.';\n",
              "          element.innerHTML = '';\n",
              "          dataTable['output_type'] = 'display_data';\n",
              "          await google.colab.output.renderOutput(dataTable, element);\n",
              "          const docLink = document.createElement('div');\n",
              "          docLink.innerHTML = docLinkHtml;\n",
              "          element.appendChild(docLink);\n",
              "        }\n",
              "      </script>\n",
              "    </div>\n",
              "  </div>\n",
              "  "
            ]
          },
          "metadata": {},
          "execution_count": 19
        }
      ]
    },
    {
      "cell_type": "markdown",
      "source": [
        "### 3.2 Data Distribution\n",
        "An important consideration before building a machine learning model is to understand what the distribution of the data looks like. A lot of algorithms make assumptions about how the data is distributed.   \n",
        "\n",
        "Many machine learning algorithms make assumptions of normality and equal variance. Almost all models besides tree-based models require the features to be on the same scale.  \n",
        "\n",
        "Checking the distribution of the data can help us identify issues violating these assumptions such as outliers, skewness, high variance and different scales. These issues can affect the performance of the model and should be addressed before training the model."
      ],
      "metadata": {
        "id": "mPnVfGBjMFpV"
      }
    },
    {
      "cell_type": "markdown",
      "source": [
        "#### 3.2.1 Inspecting Outliers\n",
        "Outliers are observations in the data that are significantly different from the rest of the data points. They can have a disproportionate effect on the results of a machine learning model, and can skew the distribution of the data.\n",
        "\n",
        "There are several reasons why it's important to remove outliers before training a model:\n",
        "\n",
        "* Outliers can affect the accuracy of the model by introducing bias in the data, leading to unreliable or inaccurate predictions.  \n",
        "\n",
        "* Outliers can affect the stability of the model, causing the model to overfit or underfit the data.  \n",
        "\n",
        "* Outliers can affect the interpretability of the model, making it more difficult to understand the relationships between variables and the overall model.  \n",
        "\n",
        "* Outliers can affect the performance of the model, in some cases, the algorithm may be sensitive to the outliers, and it will get affected by the extreme values.  \n",
        "\n",
        "It's worth noting that not all outliers should be removed:\n",
        "* Some of them can carry valuable information and removing them can lead to lose important information and reduce the performance of the model.\n",
        "* Removing outliers before training a model can improve the performance of the model on the training data, but it can also make the model less robust to outliers in the real world. \n",
        "\n",
        "In such cases, it may be better to keep the outliers, and instead try to find ways to account for them in the model. It's important to thoroughly examine the outliers and make an informed decision about whether to remove or keep them, and how to handle them in the model.\n",
        "\n",
        "Let's detect outliers in `age` column and decide whether we should keep them.  We can use Z-score method to detect outliers. This method calculates the number of standard deviations away from the mean a data point is. Data points that have a z-score greater than a certain threshold (usually 3 or -3) are considered outliers."
      ],
      "metadata": {
        "id": "_tUKyuMKSOkf"
      }
    },
    {
      "cell_type": "code",
      "source": [
        "# use Z-score method to detect outliers\n",
        "mean = data['age'].mean()\n",
        "std = data['age'].std()\n",
        "cutoff = std * 3 \n",
        "lower, upper = mean - cutoff, mean + cutoff\n",
        "print('The lower bound of age is:', lower)\n",
        "print('The upper bound of age is:', upper)\n",
        "outliers = data[(data['age'] > upper) | (data['age'] < lower)]"
      ],
      "metadata": {
        "colab": {
          "base_uri": "https://localhost:8080/"
        },
        "id": "s3AUIEGiUipn",
        "outputId": "c878b020-acf2-4a27-f189-0f2c621e1575"
      },
      "execution_count": 20,
      "outputs": [
        {
          "output_type": "stream",
          "name": "stdout",
          "text": [
            "The lower bound of age is: 5.762438212070137\n",
            "The upper bound of age is: 55.37618379059908\n"
          ]
        }
      ]
    },
    {
      "cell_type": "code",
      "source": [
        "# examine the outliers through visualization\n",
        "sns.boxplot(x='converted', y='age', data=outliers)\n",
        "plt.show()"
      ],
      "metadata": {
        "colab": {
          "base_uri": "https://localhost:8080/",
          "height": 282
        },
        "id": "1BONShpAE7Jb",
        "outputId": "9fdf75e5-fde6-41ac-ab84-393ee34b4a91"
      },
      "execution_count": 21,
      "outputs": [
        {
          "output_type": "display_data",
          "data": {
            "text/plain": [
              "<Figure size 432x288 with 1 Axes>"
            ],
            "image/png": "[encoded data removed]"
          },
          "metadata": {
            "needs_background": "light"
          }
        }
      ]
    },
    {
      "cell_type": "markdown",
      "source": [
        "We can see from the box plot that age does carry some information about conversion, and it's very common in the real world that a user's age is above 55 years old, so we decide not to remove the outliers in order to make our model robust to real-world situations and unbiased."
      ],
      "metadata": {
        "id": "cVW5NF0DeYdz"
      }
    },
    {
      "cell_type": "markdown",
      "source": [
        "#### 3.2.2 Variance and Skewness\n",
        "When we are working with any kind of model that uses a linear distance metric or operates in a linear space like k-nearest neighbors, logistic regression, or k-means clustering, the model is assuming that the data and features we are giving it are related in a linear fashion, or can be measured with a linear distance metric.   \n",
        "\n",
        "When a feature or features in the dataset have high variance, it could bias a model that assumes the data is normally distributed. If a feature in the dataset has a variance that's an order of magnitude or more greater than the other features, this could impact the model's ability to learn from other features in the dataset.\n",
        "\n",
        "Skewed data can also have a significant impact on linear machine learning models. When the data is skewed, the majority of the data points will be concentrated in a small range of the feature space, while a few data points will have much larger values. This can cause issues for linear models because they assume that the data is approximately normally distributed and that the data points are evenly spread across the feature space.\n",
        "\n",
        "Let's check the variance and skewness of our data."
      ],
      "metadata": {
        "id": "izOj1olpSf_9"
      }
    },
    {
      "cell_type": "code",
      "source": [
        "# check the variance of features\n",
        "data.var()"
      ],
      "metadata": {
        "colab": {
          "base_uri": "https://localhost:8080/"
        },
        "id": "UPKNF2IOjHCZ",
        "outputId": "e1fd15c1-7d6b-4fdf-d798-c1529731c83f"
      },
      "execution_count": 22,
      "outputs": [
        {
          "output_type": "execute_result",
          "data": {
            "text/plain": [
              "age                    68.375660\n",
              "new_user                0.215602\n",
              "total_pages_visited    11.162637\n",
              "converted               0.031212\n",
              "C_China                 0.183570\n",
              "C_Germany               0.039583\n",
              "C_UK                    0.129747\n",
              "C_US                    0.246003\n",
              "S_Ads                   0.201883\n",
              "S_Direct                0.176578\n",
              "S_Seo                   0.249907\n",
              "dtype: float64"
            ]
          },
          "metadata": {},
          "execution_count": 22
        }
      ]
    },
    {
      "cell_type": "markdown",
      "source": [
        "We can see that `age` column and `total_pages_visited` have relatively high variances."
      ],
      "metadata": {
        "id": "fI5xV9ULUTow"
      }
    },
    {
      "cell_type": "code",
      "source": [
        "# check the skewness of age and total_pages_visited\n",
        "sns.histplot(data=data, x='age')\n",
        "plt.show()\n",
        "sns.histplot(data=data, x='total_pages_visited')\n",
        "plt.show()"
      ],
      "metadata": {
        "colab": {
          "base_uri": "https://localhost:8080/",
          "height": 542
        },
        "id": "C-YQwnN9rXR0",
        "outputId": "32c05316-c44d-4bd8-bee4-2cebeff34c40"
      },
      "execution_count": 23,
      "outputs": [
        {
          "output_type": "display_data",
          "data": {
            "text/plain": [
              "<Figure size 432x288 with 1 Axes>"
            ],
            "image/png": "[encoded data removed]"
          },
          "metadata": {
            "needs_background": "light"
          }
        },
        {
          "output_type": "display_data",
          "data": {
            "text/plain": [
              "<Figure size 432x288 with 1 Axes>"
            ],
            "image/png": "[encoded data removed]"
          },
          "metadata": {
            "needs_background": "light"
          }
        }
      ]
    },
    {
      "cell_type": "markdown",
      "source": [
        "We can see from the graphs that both `age` and `total_pages_visited` are right-skewed."
      ],
      "metadata": {
        "id": "r9VCTMQaGITa"
      }
    },
    {
      "cell_type": "markdown",
      "source": [
        "##### 3.2.2.1 Log Transformation\n",
        "Log transformation is a nice way to minimize the variance of a column and make it less skewed. It takes the natural log and transforms values onto a scale that approximates normality. It is a good strategy when you care about relative changes in a linear model and you still want to capture the magnitude of change. "
      ],
      "metadata": {
        "id": "_NfyjtN_Fjbi"
      }
    },
    {
      "cell_type": "code",
      "source": [
        "# log transformation\n",
        "data['age'] = np.log(data['age'])\n",
        "data['total_pages_visited'] = np.log(data['total_pages_visited'])\n",
        "\n",
        "# check the data after transformation\n",
        "data.var()\n",
        "sns.histplot(data['age'])\n",
        "plt.show()\n",
        "sns.histplot(data['total_pages_visited'])\n",
        "plt.show()"
      ],
      "metadata": {
        "colab": {
          "base_uri": "https://localhost:8080/",
          "height": 542
        },
        "id": "Y5PmXFV3WMuV",
        "outputId": "c39ea94a-0d80-4efe-bde2-e5c0be2b8f69"
      },
      "execution_count": 24,
      "outputs": [
        {
          "output_type": "display_data",
          "data": {
            "text/plain": [
              "<Figure size 432x288 with 1 Axes>"
            ],
            "image/png": "[encoded data removed]"
          },
          "metadata": {
            "needs_background": "light"
          }
        },
        {
          "output_type": "display_data",
          "data": {
            "text/plain": [
              "<Figure size 432x288 with 1 Axes>"
            ],
            "image/png": "[encoded data removed]"
          },
          "metadata": {
            "needs_background": "light"
          }
        }
      ]
    },
    {
      "cell_type": "markdown",
      "source": [
        "After log transformation, the variances are more equal and the distributions are closer to normality."
      ],
      "metadata": {
        "id": "LBc-BPa0XeFy"
      }
    },
    {
      "cell_type": "markdown",
      "source": [
        "### 3.2.3 Scaling\n",
        "It is obvious that our data set contains continuous features that are on different scales: `age` and `total_pages_visited`. This will negatively impact the performance of linearity-based models, such as logistic regression and k-Nearest Neighbors. We will need to transform the data into comparable scales before we put it into the linearity-based models.\n",
        "\n",
        "There are two common ways to scale data: `StandardScaler` and `MinMaxScaler`. Both scalers change the range of feature values to make them linearly comparable to prevent some features from dominating others, while do not change the shape of the distribution of the data, so we won't lose information about the features. \n",
        "\n",
        "* __`StandardScaler`__ standardizes the features of a dataset so that they have the properties of a standard normal distribution (mean of 0 and standard deviation of 1). This is done by subtracting the mean of each feature from each data point and dividing it by the standard deviation of the feature. \n",
        "\n",
        "* __`MinMaxScaler`__ scales the features of a dataset to a specific range, usually 0 to 1. It does this by subtracting the minimum value of the feature from each data point and dividing the difference between the minimum and maximum values.\n",
        "\n",
        "We can try both of them on our data to see which one performs better."
      ],
      "metadata": {
        "id": "iyWSHqaf3dbJ"
      }
    },
    {
      "cell_type": "markdown",
      "source": [
        "To avoid data leakage, we need to split our data set into a training set and a testing set before we perform further processing.  \n",
        "We noticed in EDA that only 3.2% of the users were converted. When labels have an uneven distribution, we need to use stratified sampling."
      ],
      "metadata": {
        "id": "sv7fFf1B-Zth"
      }
    },
    {
      "cell_type": "code",
      "source": [
        "# Split the data into two DataFrames: X (features) and y (target variable)\n",
        "y = data['converted']\n",
        "X = data.drop('converted', axis=1)\n",
        "print(y.head())\n",
        "print(X.head())"
      ],
      "metadata": {
        "id": "EaVZDTV_5LlJ",
        "colab": {
          "base_uri": "https://localhost:8080/"
        },
        "outputId": "42a7a57d-686d-4860-a5c6-143ec9be1fe9"
      },
      "execution_count": 26,
      "outputs": [
        {
          "output_type": "stream",
          "name": "stdout",
          "text": [
            "0    0\n",
            "1    0\n",
            "2    0\n",
            "3    0\n",
            "4    0\n",
            "Name: converted, dtype: int64\n",
            "        age  new_user  total_pages_visited  C_China  C_Germany  C_UK  C_US  \\\n",
            "0  3.218876         1             0.000000        0          0     1     0   \n",
            "1  3.135494         1             1.609438        0          0     0     1   \n",
            "2  3.332205         1             1.386294        0          0     0     1   \n",
            "3  3.663562         1             1.609438        1          0     0     0   \n",
            "4  3.401197         1             1.791759        0          0     0     1   \n",
            "\n",
            "   S_Ads  S_Direct  S_Seo  \n",
            "0      1         0      0  \n",
            "1      0         0      1  \n",
            "2      0         0      1  \n",
            "3      0         0      1  \n",
            "4      0         0      1  \n"
          ]
        }
      ]
    },
    {
      "cell_type": "code",
      "source": [
        "from sklearn.model_selection import train_test_split\n",
        "seed = 1\n",
        "\n",
        "# Split the data into train and test subsets and stratified sampling the test data size to be 20%\n",
        "X_train, X_test, y_train, y_test = train_test_split(X, y, test_size=0.2, random_state=seed, stratify=y)"
      ],
      "metadata": {
        "id": "YgdiFvk74sUq"
      },
      "execution_count": 27,
      "outputs": []
    },
    {
      "cell_type": "code",
      "source": [
        "from sklearn.preprocessing import StandardScaler\n",
        "from sklearn.preprocessing import MinMaxScaler\n",
        "\n",
        "# Scaling X data based on X_train using 2 different scalers\n",
        "scaler_standard = StandardScaler()\n",
        "X_train_standard = scaler_standard.fit_transform(X_train)\n",
        "X_test_standard = scaler_standard.transform(X_test)\n",
        "\n",
        "scaler_minmax = MinMaxScaler()\n",
        "X_train_minmax = scaler_minmax.fit_transform(X_train)\n",
        "X_test_minmax = scaler_minmax.transform(X_test)"
      ],
      "metadata": {
        "id": "TjOYOncScQmj"
      },
      "execution_count": 28,
      "outputs": []
    },
    {
      "cell_type": "code",
      "source": [
        "from sklearn.linear_model import LogisticRegression\n",
        "from sklearn.model_selection import cross_val_score, KFold"
      ],
      "metadata": {
        "id": "yLYCxvkPR8Ij"
      },
      "execution_count": 30,
      "outputs": []
    },
    {
      "cell_type": "code",
      "source": [
        "# check which scaler performs better using cross-validation\n",
        "kf = KFold(n_splits=5, random_state=seed, shuffle=True)\n",
        "\n",
        "lr_standard = LogisticRegression(random_state=seed)\n",
        "cv_results_standard = cross_val_score(lr_standard, X_train_standard, y_train, cv=kf)\n",
        "\n",
        "lr_minmax= LogisticRegression(random_state=seed)\n",
        "cv_results_minmax = cross_val_score(lr_minmax, X_train_minmax, y_train, cv=kf)\n",
        "\n",
        "plt.boxplot([cv_results_standard,cv_results_minmax], labels=['StandardScaler', 'MinMaxScaler'])\n",
        "plt.show()"
      ],
      "metadata": {
        "colab": {
          "base_uri": "https://localhost:8080/",
          "height": 265
        },
        "id": "yboz4ALMMPl0",
        "outputId": "5648fa4f-cca6-4673-bf71-f53367d47e99"
      },
      "execution_count": 31,
      "outputs": [
        {
          "output_type": "display_data",
          "data": {
            "text/plain": [
              "<Figure size 432x288 with 1 Axes>"
            ],
            "image/png": "[encoded data removed]"
          },
          "metadata": {
            "needs_background": "light"
          }
        }
      ]
    },
    {
      "cell_type": "markdown",
      "source": [
        "The results are pretty close. `MinMaxScaler` is slightly better than `StandardScaler`, so we can choose `MinMaxScaler` as our scaler."
      ],
      "metadata": {
        "id": "k0qdth9uPBgC"
      }
    },
    {
      "cell_type": "markdown",
      "source": [
        "## 4. Hyperparameter Tuning\n",
        "In machine learning, a model's performance can be heavily influenced by the values of its hyperparameters. These hyperparameters are set before training the model and are not learned during training.  \n",
        "\n",
        "Hyperparameter tuning is the process of selecting the optimal values for the hyperparameters of a machine learning model. Here we use `GridSearch` for hyperparameter tuning since the data set isn't very large. `GridSearchCV` can perform an exhaustive search of the specified hyperparameters by training the model with different combinations of hyperparameter values and evaluating its performance using a specified scoring metric. It then returns the combination of hyperparameter values that result in the best performance.\n",
        "\n",
        "In logistic regression, the common hyperparameters to tune are the type of regularization (penalty), the regularization strength (C), and the algorithm to use in the optimization problem (solver).\n",
        "\n",
        "Regularization is a technique to prevent overfitting in machine learning. In linear models, large coefficients can lead to overfitting, so we can use regularization to penalize large coefficients by adding a penalty term to the cost function of the model. \n",
        "In logistic regression, the most common regularization method are L1 and L2 regularization. \n",
        "\n",
        "* Lasso (L1): Adding a penalty term to the loss function that is proportional to the absolute value of the coefficients (α * sum of absolute coefficient). L1 regularization can set many of the coefficients to zero, thus ignoring those features. In other words, L1 can perform feature selection. \n",
        "\n",
        "* Ridge (L2): Adding a penalty term to the loss function that is proportional to the square of the coefficients (α * sum of squared coefficient). L2 regularization shrinks the coefficients to be smaller.\n",
        "\n",
        "\"C\" is the inverse of the regularization strength (α). Hence, a larger C means less regularization and a smaller C means more regularization.\n"
      ],
      "metadata": {
        "id": "6Qjn69EUBkov"
      }
    },
    {
      "cell_type": "markdown",
      "source": [
        "*We* can first create a learning curve of regularization strength to determine the range of `C` used in GridSearch."
      ],
      "metadata": {
        "id": "cOS5RmBu4giR"
      }
    },
    {
      "cell_type": "code",
      "source": [
        "from sklearn.model_selection import GridSearchCV\n",
        "from sklearn.metrics import accuracy_score"
      ],
      "metadata": {
        "id": "rlwUNRXRB6vF"
      },
      "execution_count": 32,
      "outputs": []
    },
    {
      "cell_type": "code",
      "source": [
        "# Set the regularization strength & accuracies list\n",
        "C = np.linspace(0.01, 5, num=50)\n",
        "accuracies = []\n",
        "\n",
        "# Create the for loop\n",
        "for c in C:\n",
        "  \t# Create the model with L1 regularization, predictions & save the accuracies\n",
        "    model = LogisticRegression(C=c, penalty='l1', solver='saga')\n",
        "    predictions = model.fit(X_train_minmax, y_train).predict(X_test_minmax)\n",
        "    accuracies.append(accuracy_score(y_test, predictions))\n",
        "\n",
        "# Plot results    \n",
        "plt.plot(C, accuracies)\n",
        "plt.gca().set(xlabel='regularization strength', ylabel='Accuracy', title='Accuracy for different regularization strength with L1 regularization')\n",
        "plt.show()"
      ],
      "metadata": {
        "colab": {
          "base_uri": "https://localhost:8080/",
          "height": 295
        },
        "id": "n8WEbevMCsyq",
        "outputId": "2c3d4b28-e14b-4b23-c72d-c7e25859294b"
      },
      "execution_count": 34,
      "outputs": [
        {
          "output_type": "display_data",
          "data": {
            "text/plain": [
              "<Figure size 432x288 with 1 Axes>"
            ],
            "image/png": "[encoded data removed]"
          },
          "metadata": {
            "needs_background": "light"
          }
        }
      ]
    },
    {
      "cell_type": "code",
      "source": [
        "# Set the regularization strength & accuracies list\n",
        "C = np.linspace(0.01, 5, num=50)\n",
        "accuracies = []\n",
        "\n",
        "# Create the for loop\n",
        "for c in C:\n",
        "  \t# Create the model with L2 regularization, predictions & save the accuracies\n",
        "    model = LogisticRegression(C=c, penalty='l2')\n",
        "    predictions = model.fit(X_train_minmax, y_train).predict(X_test_minmax)\n",
        "    accuracies.append(accuracy_score(y_test, predictions))\n",
        "\n",
        "# Plot results    \n",
        "plt.plot(C, accuracies)\n",
        "plt.gca().set(xlabel='regularization strength', ylabel='Accuracy', title='Accuracy for different regularization strength with L2 regularization')\n",
        "plt.show()"
      ],
      "metadata": {
        "colab": {
          "base_uri": "https://localhost:8080/",
          "height": 295
        },
        "id": "uNo5mSBvG_GF",
        "outputId": "c3ec96f2-cd9c-402d-990e-1f2aa24416e9"
      },
      "execution_count": 35,
      "outputs": [
        {
          "output_type": "display_data",
          "data": {
            "text/plain": [
              "<Figure size 432x288 with 1 Axes>"
            ],
            "image/png": "[encoded data removed]"
          },
          "metadata": {
            "needs_background": "light"
          }
        }
      ]
    },
    {
      "cell_type": "markdown",
      "source": [
        "Both of the accuracies increase significantly from 0.0 - 1.0, then stay stable, so we can narrow down our grid search region of C to 0.5 - 2.0."
      ],
      "metadata": {
        "id": "_N_VUQE84M66"
      }
    },
    {
      "cell_type": "code",
      "source": [
        "# Define the parameter grid\n",
        "param_grid = {'C': [0.5, 1, 1.5, 2],\n",
        "              'penalty': ['l1'],\n",
        "              'solver':['saga']}\n",
        "\n",
        "# Create a logistic regression model\n",
        "log_reg = LogisticRegression()\n",
        "\n",
        "# Create a GridSearchCV object\n",
        "grid_search = GridSearchCV(log_reg, param_grid, cv=5, n_jobs=-1)\n",
        "\n",
        "# Fit the GridSearchCV object to the data\n",
        "grid_search.fit(X_train_minmax, y_train)\n",
        "\n",
        "# Print the best parameters and the best score\n",
        "print(\"Best parameters: \", grid_search.best_params_)\n",
        "print(\"Best score: \", grid_search.best_score_)"
      ],
      "metadata": {
        "colab": {
          "base_uri": "https://localhost:8080/"
        },
        "id": "Inkfhfv582YJ",
        "outputId": "99d10a0d-f465-48d9-cc57-42bd848473ca"
      },
      "execution_count": 36,
      "outputs": [
        {
          "output_type": "stream",
          "name": "stdout",
          "text": [
            "Best parameters:  {'C': 1, 'penalty': 'l1', 'solver': 'saga'}\n",
            "Best score:  0.986179525231873\n"
          ]
        }
      ]
    },
    {
      "cell_type": "code",
      "source": [
        "# Define the parameter grid\n",
        "param_grid = {'C': [0.5, 1, 1.5, 2],\n",
        "              'penalty': ['l2'],\n",
        "              'solver':['lbfgs','newton-cg', 'sag', 'saga']}\n",
        "\n",
        "# Create a logistic regression model\n",
        "log_reg = LogisticRegression()\n",
        "\n",
        "# Create a GridSearchCV object\n",
        "grid_search = GridSearchCV(log_reg, param_grid, cv=5, n_jobs=-1)\n",
        "\n",
        "# Fit the GridSearchCV object to the data\n",
        "grid_search.fit(X_train_minmax, y_train)\n",
        "\n",
        "# Print the best parameters and the best score\n",
        "print(\"Best parameters: \", grid_search.best_params_)\n",
        "print(\"Best score: \", grid_search.best_score_)"
      ],
      "metadata": {
        "colab": {
          "base_uri": "https://localhost:8080/"
        },
        "id": "kle7Fgkh4eCm",
        "outputId": "c978e15c-696c-4a64-c2cd-abd340034946"
      },
      "execution_count": 37,
      "outputs": [
        {
          "output_type": "stream",
          "name": "stdout",
          "text": [
            "Best parameters:  {'C': 1.5, 'penalty': 'l2', 'solver': 'sag'}\n",
            "Best score:  0.9861676656493303\n"
          ]
        }
      ]
    },
    {
      "cell_type": "markdown",
      "source": [
        "We can also choose not to use regularization in our model and see its performance."
      ],
      "metadata": {
        "id": "nynO1fveLO1n"
      }
    },
    {
      "cell_type": "code",
      "source": [
        "# Define the parameter grid\n",
        "param_grid = {'penalty': ['none'],\n",
        "              'solver':['lbfgs','newton-cg', 'sag', 'saga']}\n",
        "\n",
        "# Create a logistic regression model\n",
        "log_reg = LogisticRegression()\n",
        "\n",
        "# Create a GridSearchCV object\n",
        "grid_search = GridSearchCV(log_reg, param_grid, cv=5, n_jobs=-1)\n",
        "\n",
        "# Fit the GridSearchCV object to the data\n",
        "grid_search.fit(X_train_minmax, y_train)\n",
        "\n",
        "# Print the best parameters and the best score\n",
        "print(\"Best parameters: \", grid_search.best_params_)\n",
        "print(\"Best score: \", grid_search.best_score_)"
      ],
      "metadata": {
        "id": "fQQaCGZH_8YH",
        "colab": {
          "base_uri": "https://localhost:8080/"
        },
        "outputId": "d1c872f2-0e63-4a89-a159-2bd536038c82"
      },
      "execution_count": 38,
      "outputs": [
        {
          "output_type": "stream",
          "name": "stdout",
          "text": [
            "Best parameters:  {'penalty': 'none', 'solver': 'lbfgs'}\n",
            "Best score:  0.9861637124551494\n"
          ]
        }
      ]
    },
    {
      "cell_type": "markdown",
      "source": [
        "We can see that the combination of parameters {'C': 1, 'penalty': 'l1', 'solver': 'saga'} has the highest score (0.986179). We will use these hyperparameters to set our model for training and testing."
      ],
      "metadata": {
        "id": "_bQqM5mQMHMp"
      }
    },
    {
      "cell_type": "markdown",
      "source": [
        "## 5. Model Validation\n",
        "There are several metrics that can be used to evaluate the performance of a binary classification model. Some common metrics for binary classification are:\n",
        "\n",
        "__Accuracy:__ This is the number of __correct predictions made by the model__, expressed as a percentage of the total number of predictions.  \n",
        "\n",
        "__Precision:__ This is the number of true positive predictions made by the model, expressed as a percentage of the total number of positive predictions made by the model. Precision is a measure of the model's __ability to avoid false positives__.  \n",
        "\n",
        "__Recall:__ This is the number of true positive predictions made by the model, expressed as a percentage of the total number of positive cases in the data. Recall is a measure of the model's __ability to identify all positive cases__.  \n",
        "\n",
        "__F1 score:__ This is the harmonic mean of precision and recall. The F1 score is a good metric to use when you want to __balance precision and recall__.  \n",
        "\n",
        "__ROC curve:__ This is a graphical plot that illustrates the __performance of a binary classification model for all possible classification thresholds__. The plot shows the true positive rate (recall) on the y-axis and the false positive rate on the x-axis. The area under the ROC curve (AUC) is a measure of the model's overall performance. __The higher the AUC, the better the performance of the model at distinguishing between the positive and negative classes.__  \n",
        "\n",
        "It is important to choose the appropriate metric for the task at hand. For example, if the goal is to identify all positive cases, then recall may be the most important metric to focus on. On the other hand, if the goal is to minimize false positives, then precision may be more important."
      ],
      "metadata": {
        "id": "2MwhkGsOTnr7"
      }
    },
    {
      "cell_type": "markdown",
      "source": [
        "First, let's train our model using the training set and do predictions on the testing set."
      ],
      "metadata": {
        "id": "HuZLJIDoSGce"
      }
    },
    {
      "cell_type": "code",
      "source": [
        "# train and predict\n",
        "params = {'C': 1, 'penalty': 'l1', 'solver': 'saga'}\n",
        "lr_model = LogisticRegression(**params)\n",
        "y_pred = lr_model.fit(X_train_minmax, y_train).predict(X_test_minmax)"
      ],
      "metadata": {
        "id": "YiWnCq1uTuib"
      },
      "execution_count": 39,
      "outputs": []
    },
    {
      "cell_type": "markdown",
      "source": [
        "Now let's perform model validation."
      ],
      "metadata": {
        "id": "m3QjT1HSSd3X"
      }
    },
    {
      "cell_type": "code",
      "source": [
        "from sklearn.metrics import (\n",
        "    confusion_matrix,\n",
        "    precision_score,\n",
        "    recall_score,\n",
        "    f1_score,\n",
        "    RocCurveDisplay,\n",
        ")"
      ],
      "metadata": {
        "id": "xrx1pqYcYats"
      },
      "execution_count": 40,
      "outputs": []
    },
    {
      "cell_type": "code",
      "source": [
        "# Calculate the accuracy, precision, and recall scores\n",
        "print(\"Accuracy:\", accuracy_score(y_test, y_pred))\n",
        "print(\"Precision:\", precision_score(y_test, y_pred))\n",
        "print(\"Recall:\", recall_score(y_test, y_pred))\n",
        "print(\"F1-Score:\", f1_score(y_test, y_pred))\n",
        "\n",
        "# Calculate confusion matrix\n",
        "lr_matrix = confusion_matrix(y_test, y_pred)\n",
        "\n",
        "# Plot a labeled confusion matrix with Seaborn\n",
        "sns.heatmap(lr_matrix, annot=True, fmt=\"g\")\n",
        "plt.title(\"Confusion matrix\")\n",
        "plt.ylabel(\"Actual label\")\n",
        "plt.xlabel(\"Predicted label\")\n",
        "\n",
        "# Plot ROC curve\n",
        "RocCurveDisplay.from_estimator(lr_model, X_test_minmax, y_test)"
      ],
      "metadata": {
        "id": "58-uqud2ak3I",
        "colab": {
          "base_uri": "https://localhost:8080/",
          "height": 642
        },
        "outputId": "cb96d30e-a33d-44f9-aed3-df6d4cff79ff"
      },
      "execution_count": 41,
      "outputs": [
        {
          "output_type": "stream",
          "name": "stdout",
          "text": [
            "Accuracy: 0.9855471220746364\n",
            "Precision: 0.8379351740696278\n",
            "Recall: 0.6843137254901961\n",
            "F1-Score: 0.7533729087965462\n"
          ]
        },
        {
          "output_type": "execute_result",
          "data": {
            "text/plain": [
              "<sklearn.metrics._plot.roc_curve.RocCurveDisplay at 0x7f1de92f9820>"
            ]
          },
          "metadata": {},
          "execution_count": 41
        },
        {
          "output_type": "display_data",
          "data": {
            "text/plain": [
              "<Figure size 432x288 with 2 Axes>"
            ],
            "image/png": "[encoded data removed]"
          },
          "metadata": {
            "needs_background": "light"
          }
        },
        {
          "output_type": "display_data",
          "data": {
            "text/plain": [
              "<Figure size 432x288 with 1 Axes>"
            ],
            "image/png": "[encoded data removed]"
          },
          "metadata": {
            "needs_background": "light"
          }
        }
      ]
    },
    {
      "cell_type": "markdown",
      "source": [
        "The model achieves a 98.55% accuracy on the testing set. It's close to the accuracy on the training set, indicating the model didn't overfit or underfit.  \n",
        "The F1-score is 0.7533, and the AUC is 0.98, which are acceptable scores for an imbalanced dataset.\n"
      ],
      "metadata": {
        "id": "uZk7EPJxSomy"
      }
    },
    {
      "cell_type": "markdown",
      "source": [
        "We can check the coefficients of the model to get some insights into how the features affect the conversion."
      ],
      "metadata": {
        "id": "dhJKET-qV-Ce"
      }
    },
    {
      "cell_type": "code",
      "source": [
        "# match the coefficients and the features\n",
        "coef = list(lr_model.coef_[0])\n",
        "features = list(X_train.columns)\n",
        "coefficients = pd.DataFrame(dict(zip(features, coef)), index=[0])\n",
        "coefficients"
      ],
      "metadata": {
        "id": "bYHqx_2pW6Pj",
        "colab": {
          "base_uri": "https://localhost:8080/",
          "height": 80
        },
        "outputId": "9ee4025a-88fd-4b8d-bb1e-9ac62dec5327"
      },
      "execution_count": 42,
      "outputs": [
        {
          "output_type": "execute_result",
          "data": {
            "text/plain": [
              "        age  new_user  total_pages_visited   C_China  C_Germany      C_UK  \\\n",
              "0 -3.059668 -1.680324            26.351826 -3.430649   0.282308  0.000943   \n",
              "\n",
              "       C_US     S_Ads  S_Direct     S_Seo  \n",
              "0 -0.327283  0.044603 -0.174413 -0.000116  "
            ],
            "text/html": [
              "\n",
              "  <div id=\"df-54724111-2282-4550-b8ea-0bb41f0bf281\">\n",
              "    <div class=\"colab-df-container\">\n",
              "      <div>\n",
              "<style scoped>\n",
              "    .dataframe tbody tr th:only-of-type {\n",
              "        vertical-align: middle;\n",
              "    }\n",
              "\n",
              "    .dataframe tbody tr th {\n",
              "        vertical-align: top;\n",
              "    }\n",
              "\n",
              "    .dataframe thead th {\n",
              "        text-align: right;\n",
              "    }\n",
              "</style>\n",
              "<table border=\"1\" class=\"dataframe\">\n",
              "  <thead>\n",
              "    <tr style=\"text-align: right;\">\n",
              "      <th></th>\n",
              "      <th>age</th>\n",
              "      <th>new_user</th>\n",
              "      <th>total_pages_visited</th>\n",
              "      <th>C_China</th>\n",
              "      <th>C_Germany</th>\n",
              "      <th>C_UK</th>\n",
              "      <th>C_US</th>\n",
              "      <th>S_Ads</th>\n",
              "      <th>S_Direct</th>\n",
              "      <th>S_Seo</th>\n",
              "    </tr>\n",
              "  </thead>\n",
              "  <tbody>\n",
              "    <tr>\n",
              "      <th>0</th>\n",
              "      <td>-3.059668</td>\n",
              "      <td>-1.680324</td>\n",
              "      <td>26.351826</td>\n",
              "      <td>-3.430649</td>\n",
              "      <td>0.282308</td>\n",
              "      <td>0.000943</td>\n",
              "      <td>-0.327283</td>\n",
              "      <td>0.044603</td>\n",
              "      <td>-0.174413</td>\n",
              "      <td>-0.000116</td>\n",
              "    </tr>\n",
              "  </tbody>\n",
              "</table>\n",
              "</div>\n",
              "      <button class=\"colab-df-convert\" onclick=\"convertToInteractive('df-54724111-2282-4550-b8ea-0bb41f0bf281')\"\n",
              "              title=\"Convert this dataframe to an interactive table.\"\n",
              "              style=\"display:none;\">\n",
              "        \n",
              "  <svg xmlns=\"http://www.w3.org/2000/svg\" height=\"24px\"viewBox=\"0 0 24 24\"\n",
              "       width=\"24px\">\n",
              "    <path d=\"M0 0h24v24H0V0z\" fill=\"none\"/>\n",
              "    <path d=\"M18.56 5.44l.94 2.06.94-2.06 2.06-.94-2.06-.94-.94-2.06-.94 2.06-2.06.94zm-11 1L8.5 8.5l.94-2.06 2.06-.94-2.06-.94L8.5 2.5l-.94 2.06-2.06.94zm10 10l.94 2.06.94-2.06 2.06-.94-2.06-.94-.94-2.06-.94 2.06-2.06.94z\"/><path d=\"M17.41 7.96l-1.37-1.37c-.4-.4-.92-.59-1.43-.59-.52 0-1.04.2-1.43.59L10.3 9.45l-7.72 7.72c-.78.78-.78 2.05 0 2.83L4 21.41c.39.39.9.59 1.41.59.51 0 1.02-.2 1.41-.59l7.78-7.78 2.81-2.81c.8-.78.8-2.07 0-2.86zM5.41 20L4 18.59l7.72-7.72 1.47 1.35L5.41 20z\"/>\n",
              "  </svg>\n",
              "      </button>\n",
              "      \n",
              "  <style>\n",
              "    .colab-df-container {\n",
              "      display:flex;\n",
              "      flex-wrap:wrap;\n",
              "      gap: 12px;\n",
              "    }\n",
              "\n",
              "    .colab-df-convert {\n",
              "      background-color: #E8F0FE;\n",
              "      border: none;\n",
              "      border-radius: 50%;\n",
              "      cursor: pointer;\n",
              "      display: none;\n",
              "      fill: #1967D2;\n",
              "      height: 32px;\n",
              "      padding: 0 0 0 0;\n",
              "      width: 32px;\n",
              "    }\n",
              "\n",
              "    .colab-df-convert:hover {\n",
              "      background-color: #E2EBFA;\n",
              "      box-shadow: 0px 1px 2px rgba(60, 64, 67, 0.3), 0px 1px 3px 1px rgba(60, 64, 67, 0.15);\n",
              "      fill: #174EA6;\n",
              "    }\n",
              "\n",
              "    [theme=dark] .colab-df-convert {\n",
              "      background-color: #3B4455;\n",
              "      fill: #D2E3FC;\n",
              "    }\n",
              "\n",
              "    [theme=dark] .colab-df-convert:hover {\n",
              "      background-color: #434B5C;\n",
              "      box-shadow: 0px 1px 3px 1px rgba(0, 0, 0, 0.15);\n",
              "      filter: drop-shadow(0px 1px 2px rgba(0, 0, 0, 0.3));\n",
              "      fill: #FFFFFF;\n",
              "    }\n",
              "  </style>\n",
              "\n",
              "      <script>\n",
              "        const buttonEl =\n",
              "          document.querySelector('#df-54724111-2282-4550-b8ea-0bb41f0bf281 button.colab-df-convert');\n",
              "        buttonEl.style.display =\n",
              "          google.colab.kernel.accessAllowed ? 'block' : 'none';\n",
              "\n",
              "        async function convertToInteractive(key) {\n",
              "          const element = document.querySelector('#df-54724111-2282-4550-b8ea-0bb41f0bf281');\n",
              "          const dataTable =\n",
              "            await google.colab.kernel.invokeFunction('convertToInteractive',\n",
              "                                                     [key], {});\n",
              "          if (!dataTable) return;\n",
              "\n",
              "          const docLinkHtml = 'Like what you see? Visit the ' +\n",
              "            '<a target=\"_blank\" href=https://colab.research.google.com/notebooks/data_table.ipynb>data table notebook</a>'\n",
              "            + ' to learn more about interactive tables.';\n",
              "          element.innerHTML = '';\n",
              "          dataTable['output_type'] = 'display_data';\n",
              "          await google.colab.output.renderOutput(dataTable, element);\n",
              "          const docLink = document.createElement('div');\n",
              "          docLink.innerHTML = docLinkHtml;\n",
              "          element.appendChild(docLink);\n",
              "        }\n",
              "      </script>\n",
              "    </div>\n",
              "  </div>\n",
              "  "
            ]
          },
          "metadata": {},
          "execution_count": 42
        }
      ]
    },
    {
      "cell_type": "code",
      "source": [
        "# visualize the coefficients\n",
        "plt.bar(features, coef)\n",
        "plt.xticks(rotation=90)\n",
        "plt.show()"
      ],
      "metadata": {
        "colab": {
          "base_uri": "https://localhost:8080/",
          "height": 351
        },
        "id": "u8WY5fcDaALJ",
        "outputId": "55e4695c-8186-4692-c634-4b81e1f38eaa"
      },
      "execution_count": 43,
      "outputs": [
        {
          "output_type": "display_data",
          "data": {
            "text/plain": [
              "<Figure size 432x288 with 1 Axes>"
            ],
            "image/png": "[encoded data removed]"
          },
          "metadata": {
            "needs_background": "light"
          }
        }
      ]
    },
    {
      "cell_type": "markdown",
      "source": [
        "Since we used L1 regularization to train our model, the coefficients of less important features were shrunk to near zero. We can see from the graph that the most important feature is `total_pages_visited`, which has a high positive impact on conversion. `age`, `new_user` and `C_China` have negative impacts on conversion. \n",
        "\n",
        "What we found from the coefficient of our model is consistent with what we found in the Exploratory Data Analysis:\n",
        "* The users who visited more pages on our website are more likely to be converted, and it's the most important feature of the converted users.\n",
        "* New users, users with older ages, and users from China are less likely to be converted."
      ],
      "metadata": {
        "id": "O56cmz5bZhTK"
      }
    },
    {
      "cell_type": "markdown",
      "source": [
        "## 6. Recommendations for Improving Conversion Rate\n",
        "\n",
        "Product Team:\n",
        "* Conduct user research to understand why the conversion rate is higher in Germany compared to other countries, and consider implementing similar strategies in other countries.\n",
        "* Optimize the website's user experience for users from China, as they have a lower conversion rate compared to other countries.\n",
        "* Consider implementing a personalized and segmented user experience for new and returning users, as the conversion rate is significantly higher for returning users.\n",
        "* Monitor the engagement levels of users and explore ways to increase the average number of pages visited per session, as this has a positive correlation with conversion rate.  \n",
        "\n",
        "Marketing Team:\n",
        "* Target younger users in marketing campaigns, as the conversion rate is higher for younger users compared to older users.\n",
        "* Develop and test different ad campaigns targeting users from China, as they have a lower conversion rate compared to other countries.\n",
        "* Monitor and optimize the performance of the different marketing channels, specifically focus on increasing the conversion rate of the direct source, which currently has the lowest conversion rate.\n",
        "* Use the most engaging page(s) of the website as a landing page for the different marketing campaigns to increase the conversion rate.\n",
        "\n"
      ],
      "metadata": {
        "id": "jB-LNiyace1l"
      }
    }
  ]
}
