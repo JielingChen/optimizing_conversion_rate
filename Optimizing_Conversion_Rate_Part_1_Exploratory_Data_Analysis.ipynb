{
  "nbformat": 4,
  "nbformat_minor": 0,
  "metadata": {
    "colab": {
      "provenance": [],
      "authorship_tag": "ABX9TyMq6jRFsDknxt8KLyY83GR2",
      "include_colab_link": true
    },
    "kernelspec": {
      "name": "python3",
      "display_name": "Python 3"
    },
    "language_info": {
      "name": "python"
    }
  },
  "cells": [
    {
      "cell_type": "markdown",
      "metadata": {
        "id": "view-in-github",
        "colab_type": "text"
      },
      "source": [
        "<a href=\"https://colab.research.google.com/github/JielingChen/optimizing_conversion_rate/blob/main/Optimizing_Conversion_Rate_Part_1_Exploratory_Data_Analysis.ipynb\" target=\"_parent\"><img src=\"https://colab.research.google.com/assets/colab-badge.svg\" alt=\"Open In Colab\"/></a>"
      ]
    },
    {
      "cell_type": "markdown",
      "source": [
        "# Description\n",
        "We have data about users who hit our site: whether they converted or not as well as some of their characteristics such as their country, the marketing channel, their age, whether they are repeat users and the number of pages visited during that session (as a proxy for site activity/time spent on site).  \n",
        "\n",
        "# Goal\n",
        "The goal of this project:\n",
        "* __Build a model that predicts conversion rate__\n",
        "* __Come up with recommendations for the product team and the marketing team to improve conversion rate__\n",
        "\n",
        "# Data\n",
        "Columns:\n",
        "* country : user country based on the IP address\n",
        "* age : user age. Self-reported at sign-in step\n",
        "* new_user : whether the user created the account during this session or had already an account and simply came back to the site\n",
        "* source : marketing channel source\n",
        "> 1. Ads: came to the site by clicking on an advertisement\n",
        "> 1. Seo: came to the site by clicking on search results\n",
        "> 1. Direct: came to the site by directly typing the URL on the browser\n",
        "* total_pages_visited: number of total pages visited during the session. This is a proxy for time spent on site and engagement during the session.\n",
        "* converted: this is our label. 1 means they converted within the session, 0 means they left without buying anything. The company goal is to increase conversion rate: # conversions / total sessions."
      ],
      "metadata": {
        "id": "UY68BZb7pIBj"
      }
    },
    {
      "cell_type": "markdown",
      "source": [
        "__This notebook is the first part of this project.__  "
      ],
      "metadata": {
        "id": "XSKtMNCZk02A"
      }
    },
    {
      "cell_type": "markdown",
      "source": [
        "## 1. Exploratory Data Analysis\n",
        "Before we implement any machine learning model, it's important to perform Exploratory Data Analysis(EDA) on the data set. We need to know our data through inspecting and visualization first, then we will be able to know how to preprocess our data for machine learning, and also gain insights on which machine learning models would be appropriate to solve our problems. What's more, through the process of EDA, we can get insights into the operation of our business, which would be helpful for us to come up with advice on how to improve the operation. "
      ],
      "metadata": {
        "id": "4VnVvHOzeLRL"
      }
    },
    {
      "cell_type": "markdown",
      "source": [
        "Let's get started!"
      ],
      "metadata": {
        "id": "46moMBgTp0wf"
      }
    },
    {
      "cell_type": "code",
      "source": [
        "# import the libraries\n",
        "import pandas as pd\n",
        "import numpy as np"
      ],
      "metadata": {
        "id": "R2WDFB2rq0XA"
      },
      "execution_count": 2,
      "outputs": []
    },
    {
      "cell_type": "code",
      "source": [
        "# read the data set\n",
        "data = pd.read_csv('/content/conversion_data.csv')\n",
        "data.head()"
      ],
      "metadata": {
        "colab": {
          "base_uri": "https://localhost:8080/",
          "height": 204
        },
        "id": "-gSWQY7WsUWp",
        "outputId": "515c8142-7614-42d3-eedb-a54ddef60279"
      },
      "execution_count": 3,
      "outputs": [
        {
          "output_type": "execute_result",
          "data": {
            "text/plain": [
              "  country  age  new_user source  total_pages_visited  converted\n",
              "0      UK   25         1    Ads                    1          0\n",
              "1      US   23         1    Seo                    5          0\n",
              "2      US   28         1    Seo                    4          0\n",
              "3   China   39         1    Seo                    5          0\n",
              "4      US   30         1    Seo                    6          0"
            ],
            "text/html": [
              "\n",
              "  <div id=\"df-be983996-b16d-4b24-b2a4-0c5c394971b8\">\n",
              "    <div class=\"colab-df-container\">\n",
              "      <div>\n",
              "<style scoped>\n",
              "    .dataframe tbody tr th:only-of-type {\n",
              "        vertical-align: middle;\n",
              "    }\n",
              "\n",
              "    .dataframe tbody tr th {\n",
              "        vertical-align: top;\n",
              "    }\n",
              "\n",
              "    .dataframe thead th {\n",
              "        text-align: right;\n",
              "    }\n",
              "</style>\n",
              "<table border=\"1\" class=\"dataframe\">\n",
              "  <thead>\n",
              "    <tr style=\"text-align: right;\">\n",
              "      <th></th>\n",
              "      <th>country</th>\n",
              "      <th>age</th>\n",
              "      <th>new_user</th>\n",
              "      <th>source</th>\n",
              "      <th>total_pages_visited</th>\n",
              "      <th>converted</th>\n",
              "    </tr>\n",
              "  </thead>\n",
              "  <tbody>\n",
              "    <tr>\n",
              "      <th>0</th>\n",
              "      <td>UK</td>\n",
              "      <td>25</td>\n",
              "      <td>1</td>\n",
              "      <td>Ads</td>\n",
              "      <td>1</td>\n",
              "      <td>0</td>\n",
              "    </tr>\n",
              "    <tr>\n",
              "      <th>1</th>\n",
              "      <td>US</td>\n",
              "      <td>23</td>\n",
              "      <td>1</td>\n",
              "      <td>Seo</td>\n",
              "      <td>5</td>\n",
              "      <td>0</td>\n",
              "    </tr>\n",
              "    <tr>\n",
              "      <th>2</th>\n",
              "      <td>US</td>\n",
              "      <td>28</td>\n",
              "      <td>1</td>\n",
              "      <td>Seo</td>\n",
              "      <td>4</td>\n",
              "      <td>0</td>\n",
              "    </tr>\n",
              "    <tr>\n",
              "      <th>3</th>\n",
              "      <td>China</td>\n",
              "      <td>39</td>\n",
              "      <td>1</td>\n",
              "      <td>Seo</td>\n",
              "      <td>5</td>\n",
              "      <td>0</td>\n",
              "    </tr>\n",
              "    <tr>\n",
              "      <th>4</th>\n",
              "      <td>US</td>\n",
              "      <td>30</td>\n",
              "      <td>1</td>\n",
              "      <td>Seo</td>\n",
              "      <td>6</td>\n",
              "      <td>0</td>\n",
              "    </tr>\n",
              "  </tbody>\n",
              "</table>\n",
              "</div>\n",
              "      <button class=\"colab-df-convert\" onclick=\"convertToInteractive('df-be983996-b16d-4b24-b2a4-0c5c394971b8')\"\n",
              "              title=\"Convert this dataframe to an interactive table.\"\n",
              "              style=\"display:none;\">\n",
              "        \n",
              "  <svg xmlns=\"http://www.w3.org/2000/svg\" height=\"24px\"viewBox=\"0 0 24 24\"\n",
              "       width=\"24px\">\n",
              "    <path d=\"M0 0h24v24H0V0z\" fill=\"none\"/>\n",
              "    <path d=\"M18.56 5.44l.94 2.06.94-2.06 2.06-.94-2.06-.94-.94-2.06-.94 2.06-2.06.94zm-11 1L8.5 8.5l.94-2.06 2.06-.94-2.06-.94L8.5 2.5l-.94 2.06-2.06.94zm10 10l.94 2.06.94-2.06 2.06-.94-2.06-.94-.94-2.06-.94 2.06-2.06.94z\"/><path d=\"M17.41 7.96l-1.37-1.37c-.4-.4-.92-.59-1.43-.59-.52 0-1.04.2-1.43.59L10.3 9.45l-7.72 7.72c-.78.78-.78 2.05 0 2.83L4 21.41c.39.39.9.59 1.41.59.51 0 1.02-.2 1.41-.59l7.78-7.78 2.81-2.81c.8-.78.8-2.07 0-2.86zM5.41 20L4 18.59l7.72-7.72 1.47 1.35L5.41 20z\"/>\n",
              "  </svg>\n",
              "      </button>\n",
              "      \n",
              "  <style>\n",
              "    .colab-df-container {\n",
              "      display:flex;\n",
              "      flex-wrap:wrap;\n",
              "      gap: 12px;\n",
              "    }\n",
              "\n",
              "    .colab-df-convert {\n",
              "      background-color: #E8F0FE;\n",
              "      border: none;\n",
              "      border-radius: 50%;\n",
              "      cursor: pointer;\n",
              "      display: none;\n",
              "      fill: #1967D2;\n",
              "      height: 32px;\n",
              "      padding: 0 0 0 0;\n",
              "      width: 32px;\n",
              "    }\n",
              "\n",
              "    .colab-df-convert:hover {\n",
              "      background-color: #E2EBFA;\n",
              "      box-shadow: 0px 1px 2px rgba(60, 64, 67, 0.3), 0px 1px 3px 1px rgba(60, 64, 67, 0.15);\n",
              "      fill: #174EA6;\n",
              "    }\n",
              "\n",
              "    [theme=dark] .colab-df-convert {\n",
              "      background-color: #3B4455;\n",
              "      fill: #D2E3FC;\n",
              "    }\n",
              "\n",
              "    [theme=dark] .colab-df-convert:hover {\n",
              "      background-color: #434B5C;\n",
              "      box-shadow: 0px 1px 3px 1px rgba(0, 0, 0, 0.15);\n",
              "      filter: drop-shadow(0px 1px 2px rgba(0, 0, 0, 0.3));\n",
              "      fill: #FFFFFF;\n",
              "    }\n",
              "  </style>\n",
              "\n",
              "      <script>\n",
              "        const buttonEl =\n",
              "          document.querySelector('#df-be983996-b16d-4b24-b2a4-0c5c394971b8 button.colab-df-convert');\n",
              "        buttonEl.style.display =\n",
              "          google.colab.kernel.accessAllowed ? 'block' : 'none';\n",
              "\n",
              "        async function convertToInteractive(key) {\n",
              "          const element = document.querySelector('#df-be983996-b16d-4b24-b2a4-0c5c394971b8');\n",
              "          const dataTable =\n",
              "            await google.colab.kernel.invokeFunction('convertToInteractive',\n",
              "                                                     [key], {});\n",
              "          if (!dataTable) return;\n",
              "\n",
              "          const docLinkHtml = 'Like what you see? Visit the ' +\n",
              "            '<a target=\"_blank\" href=https://colab.research.google.com/notebooks/data_table.ipynb>data table notebook</a>'\n",
              "            + ' to learn more about interactive tables.';\n",
              "          element.innerHTML = '';\n",
              "          dataTable['output_type'] = 'display_data';\n",
              "          await google.colab.output.renderOutput(dataTable, element);\n",
              "          const docLink = document.createElement('div');\n",
              "          docLink.innerHTML = docLinkHtml;\n",
              "          element.appendChild(docLink);\n",
              "        }\n",
              "      </script>\n",
              "    </div>\n",
              "  </div>\n",
              "  "
            ]
          },
          "metadata": {},
          "execution_count": 3
        }
      ]
    },
    {
      "cell_type": "code",
      "source": [
        "# find out how many records are in the data set\n",
        "len(data)"
      ],
      "metadata": {
        "colab": {
          "base_uri": "https://localhost:8080/"
        },
        "id": "ClTW6fQMTvGj",
        "outputId": "243c4ea2-11fc-457c-a158-dc2aa386cf26"
      },
      "execution_count": 4,
      "outputs": [
        {
          "output_type": "execute_result",
          "data": {
            "text/plain": [
              "316200"
            ]
          },
          "metadata": {},
          "execution_count": 4
        }
      ]
    },
    {
      "cell_type": "markdown",
      "source": [
        "### 1.1 Inspecting Data"
      ],
      "metadata": {
        "id": "HQz98RQ21fBB"
      }
    },
    {
      "cell_type": "markdown",
      "source": [
        "Check the data type of each column and whether there is missing data:"
      ],
      "metadata": {
        "id": "cAQ18qlp80tz"
      }
    },
    {
      "cell_type": "code",
      "source": [
        "# get information about the data set\n",
        "data.info()"
      ],
      "metadata": {
        "colab": {
          "base_uri": "https://localhost:8080/"
        },
        "id": "B8JWMw33tx_w",
        "outputId": "68166ef4-7287-4fb3-eef4-fcf6d39967bd"
      },
      "execution_count": 5,
      "outputs": [
        {
          "output_type": "stream",
          "name": "stdout",
          "text": [
            "<class 'pandas.core.frame.DataFrame'>\n",
            "RangeIndex: 316200 entries, 0 to 316199\n",
            "Data columns (total 6 columns):\n",
            " #   Column               Non-Null Count   Dtype \n",
            "---  ------               --------------   ----- \n",
            " 0   country              316200 non-null  object\n",
            " 1   age                  316200 non-null  int64 \n",
            " 2   new_user             316200 non-null  int64 \n",
            " 3   source               316200 non-null  object\n",
            " 4   total_pages_visited  316200 non-null  int64 \n",
            " 5   converted            316200 non-null  int64 \n",
            "dtypes: int64(4), object(2)\n",
            "memory usage: 14.5+ MB\n"
          ]
        }
      ]
    },
    {
      "cell_type": "markdown",
      "source": [
        "__Findings:__\n",
        "* The country and source are categorical data, while the others are numeric data.  \n",
        "* No column has missing data, which is a very ideal situation, but note that it rarely happens in the real world."
      ],
      "metadata": {
        "id": "zoo9UclLv5Be"
      }
    },
    {
      "cell_type": "markdown",
      "source": [
        "Inspect the summary statistics of the data:"
      ],
      "metadata": {
        "id": "hzBbbk320ldJ"
      }
    },
    {
      "cell_type": "code",
      "source": [
        "# first we need to distinguish numeric data and categorical data\n",
        "\n",
        "# get the column names of the data set\n",
        "columns = pd.Series(data.columns)\n",
        "\n",
        "# make a list of column names of categorical data\n",
        "cat_col = ['country','source']\n",
        "\n",
        "# make a list of column names of numeric data\n",
        "num_col = list(columns[~columns.isin(cat_col)])\n",
        "\n",
        "# get the subset of the data set which only contains categorical data\n",
        "data_cat = data[cat_col]\n",
        "\n",
        "# get the subset of the data set which only contains numeric data\n",
        "data_num = data[num_col]\n",
        "\n",
        "# inspect these 2 subsets\n",
        "print(data_cat.describe())\n",
        "print(data_num.describe())"
      ],
      "metadata": {
        "colab": {
          "base_uri": "https://localhost:8080/"
        },
        "id": "_F8KB6nSvi37",
        "outputId": "2fa61c72-539f-4fd7-c088-e976e5c7480a"
      },
      "execution_count": 6,
      "outputs": [
        {
          "output_type": "stream",
          "name": "stdout",
          "text": [
            "       country  source\n",
            "count   316200  316200\n",
            "unique       4       3\n",
            "top         US     Seo\n",
            "freq    178092  155040\n",
            "                 age       new_user  total_pages_visited      converted\n",
            "count  316200.000000  316200.000000        316200.000000  316200.000000\n",
            "mean       30.569858       0.685465             4.872966       0.032258\n",
            "std         8.271802       0.464331             3.341104       0.176685\n",
            "min        17.000000       0.000000             1.000000       0.000000\n",
            "25%        24.000000       0.000000             2.000000       0.000000\n",
            "50%        30.000000       1.000000             4.000000       0.000000\n",
            "75%        36.000000       1.000000             7.000000       0.000000\n",
            "max       123.000000       1.000000            29.000000       1.000000\n"
          ]
        }
      ]
    },
    {
      "cell_type": "markdown",
      "source": [
        "__Finding:__\n",
        "* Our users were from 4 different countries, and came to our website through 3 different marketing channel sources. __Almost 1/2 of the users were from the US,__ and __roughly 1/2 of the users came to our website by clicking on search results.__  \n",
        "\n",
        "* In the age column, The min, median, and 75% percentile are 17, 30, and 36 years old respectively, which __indicates our users were mainly young adults__.\n",
        "The max is 123 years old, which is an out-of-range record that needs to be dropped. \n",
        "* In the new_user column, the mean is 0.6854, which means __68.54% of users created an account during this session__. \n",
        "\n",
        "* In the total_pages_visited column, we can see that __users visited 4.87 pages on average during the session__.\n",
        "\n",
        "* In the converted column, we can see that only __3.2% of the users were converted__."
      ],
      "metadata": {
        "id": "vxwTHDwL0bgN"
      }
    },
    {
      "cell_type": "code",
      "source": [
        "# inspect the out-of-range data we found in the age column\n",
        "age_over_100 = data[data['age'] >= 100]\n",
        "age_over_100"
      ],
      "metadata": {
        "colab": {
          "base_uri": "https://localhost:8080/",
          "height": 111
        },
        "id": "R5wg4rhRexQO",
        "outputId": "3bbbf3c0-83b2-401b-e673-2d2a74fdbe3f"
      },
      "execution_count": 7,
      "outputs": [
        {
          "output_type": "execute_result",
          "data": {
            "text/plain": [
              "        country  age  new_user source  total_pages_visited  converted\n",
              "90928   Germany  123         0    Seo                   15          1\n",
              "295581       UK  111         0    Ads                   10          1"
            ],
            "text/html": [
              "\n",
              "  <div id=\"df-0d45b5b8-0bff-4171-8b36-87f104eba05f\">\n",
              "    <div class=\"colab-df-container\">\n",
              "      <div>\n",
              "<style scoped>\n",
              "    .dataframe tbody tr th:only-of-type {\n",
              "        vertical-align: middle;\n",
              "    }\n",
              "\n",
              "    .dataframe tbody tr th {\n",
              "        vertical-align: top;\n",
              "    }\n",
              "\n",
              "    .dataframe thead th {\n",
              "        text-align: right;\n",
              "    }\n",
              "</style>\n",
              "<table border=\"1\" class=\"dataframe\">\n",
              "  <thead>\n",
              "    <tr style=\"text-align: right;\">\n",
              "      <th></th>\n",
              "      <th>country</th>\n",
              "      <th>age</th>\n",
              "      <th>new_user</th>\n",
              "      <th>source</th>\n",
              "      <th>total_pages_visited</th>\n",
              "      <th>converted</th>\n",
              "    </tr>\n",
              "  </thead>\n",
              "  <tbody>\n",
              "    <tr>\n",
              "      <th>90928</th>\n",
              "      <td>Germany</td>\n",
              "      <td>123</td>\n",
              "      <td>0</td>\n",
              "      <td>Seo</td>\n",
              "      <td>15</td>\n",
              "      <td>1</td>\n",
              "    </tr>\n",
              "    <tr>\n",
              "      <th>295581</th>\n",
              "      <td>UK</td>\n",
              "      <td>111</td>\n",
              "      <td>0</td>\n",
              "      <td>Ads</td>\n",
              "      <td>10</td>\n",
              "      <td>1</td>\n",
              "    </tr>\n",
              "  </tbody>\n",
              "</table>\n",
              "</div>\n",
              "      <button class=\"colab-df-convert\" onclick=\"convertToInteractive('df-0d45b5b8-0bff-4171-8b36-87f104eba05f')\"\n",
              "              title=\"Convert this dataframe to an interactive table.\"\n",
              "              style=\"display:none;\">\n",
              "        \n",
              "  <svg xmlns=\"http://www.w3.org/2000/svg\" height=\"24px\"viewBox=\"0 0 24 24\"\n",
              "       width=\"24px\">\n",
              "    <path d=\"M0 0h24v24H0V0z\" fill=\"none\"/>\n",
              "    <path d=\"M18.56 5.44l.94 2.06.94-2.06 2.06-.94-2.06-.94-.94-2.06-.94 2.06-2.06.94zm-11 1L8.5 8.5l.94-2.06 2.06-.94-2.06-.94L8.5 2.5l-.94 2.06-2.06.94zm10 10l.94 2.06.94-2.06 2.06-.94-2.06-.94-.94-2.06-.94 2.06-2.06.94z\"/><path d=\"M17.41 7.96l-1.37-1.37c-.4-.4-.92-.59-1.43-.59-.52 0-1.04.2-1.43.59L10.3 9.45l-7.72 7.72c-.78.78-.78 2.05 0 2.83L4 21.41c.39.39.9.59 1.41.59.51 0 1.02-.2 1.41-.59l7.78-7.78 2.81-2.81c.8-.78.8-2.07 0-2.86zM5.41 20L4 18.59l7.72-7.72 1.47 1.35L5.41 20z\"/>\n",
              "  </svg>\n",
              "      </button>\n",
              "      \n",
              "  <style>\n",
              "    .colab-df-container {\n",
              "      display:flex;\n",
              "      flex-wrap:wrap;\n",
              "      gap: 12px;\n",
              "    }\n",
              "\n",
              "    .colab-df-convert {\n",
              "      background-color: #E8F0FE;\n",
              "      border: none;\n",
              "      border-radius: 50%;\n",
              "      cursor: pointer;\n",
              "      display: none;\n",
              "      fill: #1967D2;\n",
              "      height: 32px;\n",
              "      padding: 0 0 0 0;\n",
              "      width: 32px;\n",
              "    }\n",
              "\n",
              "    .colab-df-convert:hover {\n",
              "      background-color: #E2EBFA;\n",
              "      box-shadow: 0px 1px 2px rgba(60, 64, 67, 0.3), 0px 1px 3px 1px rgba(60, 64, 67, 0.15);\n",
              "      fill: #174EA6;\n",
              "    }\n",
              "\n",
              "    [theme=dark] .colab-df-convert {\n",
              "      background-color: #3B4455;\n",
              "      fill: #D2E3FC;\n",
              "    }\n",
              "\n",
              "    [theme=dark] .colab-df-convert:hover {\n",
              "      background-color: #434B5C;\n",
              "      box-shadow: 0px 1px 3px 1px rgba(0, 0, 0, 0.15);\n",
              "      filter: drop-shadow(0px 1px 2px rgba(0, 0, 0, 0.3));\n",
              "      fill: #FFFFFF;\n",
              "    }\n",
              "  </style>\n",
              "\n",
              "      <script>\n",
              "        const buttonEl =\n",
              "          document.querySelector('#df-0d45b5b8-0bff-4171-8b36-87f104eba05f button.colab-df-convert');\n",
              "        buttonEl.style.display =\n",
              "          google.colab.kernel.accessAllowed ? 'block' : 'none';\n",
              "\n",
              "        async function convertToInteractive(key) {\n",
              "          const element = document.querySelector('#df-0d45b5b8-0bff-4171-8b36-87f104eba05f');\n",
              "          const dataTable =\n",
              "            await google.colab.kernel.invokeFunction('convertToInteractive',\n",
              "                                                     [key], {});\n",
              "          if (!dataTable) return;\n",
              "\n",
              "          const docLinkHtml = 'Like what you see? Visit the ' +\n",
              "            '<a target=\"_blank\" href=https://colab.research.google.com/notebooks/data_table.ipynb>data table notebook</a>'\n",
              "            + ' to learn more about interactive tables.';\n",
              "          element.innerHTML = '';\n",
              "          dataTable['output_type'] = 'display_data';\n",
              "          await google.colab.output.renderOutput(dataTable, element);\n",
              "          const docLink = document.createElement('div');\n",
              "          docLink.innerHTML = docLinkHtml;\n",
              "          element.appendChild(docLink);\n",
              "        }\n",
              "      </script>\n",
              "    </div>\n",
              "  </div>\n",
              "  "
            ]
          },
          "metadata": {},
          "execution_count": 7
        }
      ]
    },
    {
      "cell_type": "markdown",
      "source": [
        "There are only two out-of-range data, so we can simply drop them."
      ],
      "metadata": {
        "id": "acxHNJ5hfOQ_"
      }
    },
    {
      "cell_type": "code",
      "source": [
        "# drop the out-of-range data\n",
        "data = data[data['age'] < 100]\n",
        "data.count()"
      ],
      "metadata": {
        "colab": {
          "base_uri": "https://localhost:8080/"
        },
        "id": "YQYpDdZffalE",
        "outputId": "baaab181-7b39-4e94-b764-d3499df95d8e"
      },
      "execution_count": 8,
      "outputs": [
        {
          "output_type": "execute_result",
          "data": {
            "text/plain": [
              "country                316198\n",
              "age                    316198\n",
              "new_user               316198\n",
              "source                 316198\n",
              "total_pages_visited    316198\n",
              "converted              316198\n",
              "dtype: int64"
            ]
          },
          "metadata": {},
          "execution_count": 8
        }
      ]
    },
    {
      "cell_type": "markdown",
      "source": [
        "### 1.2 Visualizing Data\n",
        "After initial inspecting, let's visualize the data to get insights more intuitively."
      ],
      "metadata": {
        "id": "LN_fLQOP8AKN"
      }
    },
    {
      "cell_type": "code",
      "source": [
        "# import the libraries\n",
        "import matplotlib.pyplot as plt\n",
        "import seaborn as sns\n",
        "sns.set_theme()"
      ],
      "metadata": {
        "id": "Tw9RA6WV9hsO"
      },
      "execution_count": 9,
      "outputs": []
    },
    {
      "cell_type": "markdown",
      "source": [
        "Since we are interested in the conversion rate, so let's find out the relationships between the conversion rate and other features in our data.\n",
        "\n",
        "Note that a high conversion rate would be impactful only if the base number is big as well, so we also need to keep our eyes on the total user numbers of different countries, marketing sources and age groups."
      ],
      "metadata": {
        "id": "YOEncRTNFOgv"
      }
    },
    {
      "cell_type": "markdown",
      "source": [
        "#### 1.2.1 Conversion Rate and Demographic Characteristics\n",
        "##### 1.2.1.1 Conversion Rate and Countries"
      ],
      "metadata": {
        "id": "8QsMFkuh5wKv"
      }
    },
    {
      "cell_type": "markdown",
      "source": [
        "Let's visualize the numbers of users from different countries:"
      ],
      "metadata": {
        "id": "tL7pBd0YFqU5"
      }
    },
    {
      "cell_type": "code",
      "source": [
        "# create a country name list ordered by the numbers of users descendingly\n",
        "order_country = list(data['country'].value_counts(sort=True).index)\n",
        "\n",
        "# create a count plot of the numbers of users in each country\n",
        "sns.countplot(x=\"country\", data=data, order=order_country)\n",
        "plt.ylabel('the numbers of users')\n",
        "plt.show()"
      ],
      "metadata": {
        "colab": {
          "base_uri": "https://localhost:8080/",
          "height": 285
        },
        "id": "MKnx6Z2f8cw6",
        "outputId": "483756d3-9e3d-416c-bdf6-45d41cc7ed6f"
      },
      "execution_count": 10,
      "outputs": [
        {
          "output_type": "display_data",
          "data": {
            "text/plain": [
              "<Figure size 432x288 with 1 Axes>"
            ],
            "image/png": "[encoded data removed]"
          },
          "metadata": {}
        }
      ]
    },
    {
      "cell_type": "markdown",
      "source": [
        "__Finding:__\n",
        "* The US had the biggest user base, while Germany had the least. China and the UK were in between."
      ],
      "metadata": {
        "id": "bl8EFq_mFyq_"
      }
    },
    {
      "cell_type": "markdown",
      "source": [
        "Let's find out the conversion rates among different countries:"
      ],
      "metadata": {
        "id": "2Jn-PmtR52oQ"
      }
    },
    {
      "cell_type": "code",
      "source": [
        "# create a dataframe showing how many users were converted in each country\n",
        "convert_num_country = data.groupby('country')[['converted']].sum()\n",
        "convert_num_country.reset_index(inplace=True)\n",
        "convert_num_country"
      ],
      "metadata": {
        "colab": {
          "base_uri": "https://localhost:8080/",
          "height": 173
        },
        "id": "EtSwiUq7sfxQ",
        "outputId": "dca09929-88a1-4bfe-c6ef-f77c5e33edb3"
      },
      "execution_count": 11,
      "outputs": [
        {
          "output_type": "execute_result",
          "data": {
            "text/plain": [
              "   country  converted\n",
              "0    China        102\n",
              "1  Germany        815\n",
              "2       UK       2549\n",
              "3       US       6732"
            ],
            "text/html": [
              "\n",
              "  <div id=\"df-23c656a2-c245-4451-92da-e002ac7bb3b4\">\n",
              "    <div class=\"colab-df-container\">\n",
              "      <div>\n",
              "<style scoped>\n",
              "    .dataframe tbody tr th:only-of-type {\n",
              "        vertical-align: middle;\n",
              "    }\n",
              "\n",
              "    .dataframe tbody tr th {\n",
              "        vertical-align: top;\n",
              "    }\n",
              "\n",
              "    .dataframe thead th {\n",
              "        text-align: right;\n",
              "    }\n",
              "</style>\n",
              "<table border=\"1\" class=\"dataframe\">\n",
              "  <thead>\n",
              "    <tr style=\"text-align: right;\">\n",
              "      <th></th>\n",
              "      <th>country</th>\n",
              "      <th>converted</th>\n",
              "    </tr>\n",
              "  </thead>\n",
              "  <tbody>\n",
              "    <tr>\n",
              "      <th>0</th>\n",
              "      <td>China</td>\n",
              "      <td>102</td>\n",
              "    </tr>\n",
              "    <tr>\n",
              "      <th>1</th>\n",
              "      <td>Germany</td>\n",
              "      <td>815</td>\n",
              "    </tr>\n",
              "    <tr>\n",
              "      <th>2</th>\n",
              "      <td>UK</td>\n",
              "      <td>2549</td>\n",
              "    </tr>\n",
              "    <tr>\n",
              "      <th>3</th>\n",
              "      <td>US</td>\n",
              "      <td>6732</td>\n",
              "    </tr>\n",
              "  </tbody>\n",
              "</table>\n",
              "</div>\n",
              "      <button class=\"colab-df-convert\" onclick=\"convertToInteractive('df-23c656a2-c245-4451-92da-e002ac7bb3b4')\"\n",
              "              title=\"Convert this dataframe to an interactive table.\"\n",
              "              style=\"display:none;\">\n",
              "        \n",
              "  <svg xmlns=\"http://www.w3.org/2000/svg\" height=\"24px\"viewBox=\"0 0 24 24\"\n",
              "       width=\"24px\">\n",
              "    <path d=\"M0 0h24v24H0V0z\" fill=\"none\"/>\n",
              "    <path d=\"M18.56 5.44l.94 2.06.94-2.06 2.06-.94-2.06-.94-.94-2.06-.94 2.06-2.06.94zm-11 1L8.5 8.5l.94-2.06 2.06-.94-2.06-.94L8.5 2.5l-.94 2.06-2.06.94zm10 10l.94 2.06.94-2.06 2.06-.94-2.06-.94-.94-2.06-.94 2.06-2.06.94z\"/><path d=\"M17.41 7.96l-1.37-1.37c-.4-.4-.92-.59-1.43-.59-.52 0-1.04.2-1.43.59L10.3 9.45l-7.72 7.72c-.78.78-.78 2.05 0 2.83L4 21.41c.39.39.9.59 1.41.59.51 0 1.02-.2 1.41-.59l7.78-7.78 2.81-2.81c.8-.78.8-2.07 0-2.86zM5.41 20L4 18.59l7.72-7.72 1.47 1.35L5.41 20z\"/>\n",
              "  </svg>\n",
              "      </button>\n",
              "      \n",
              "  <style>\n",
              "    .colab-df-container {\n",
              "      display:flex;\n",
              "      flex-wrap:wrap;\n",
              "      gap: 12px;\n",
              "    }\n",
              "\n",
              "    .colab-df-convert {\n",
              "      background-color: #E8F0FE;\n",
              "      border: none;\n",
              "      border-radius: 50%;\n",
              "      cursor: pointer;\n",
              "      display: none;\n",
              "      fill: #1967D2;\n",
              "      height: 32px;\n",
              "      padding: 0 0 0 0;\n",
              "      width: 32px;\n",
              "    }\n",
              "\n",
              "    .colab-df-convert:hover {\n",
              "      background-color: #E2EBFA;\n",
              "      box-shadow: 0px 1px 2px rgba(60, 64, 67, 0.3), 0px 1px 3px 1px rgba(60, 64, 67, 0.15);\n",
              "      fill: #174EA6;\n",
              "    }\n",
              "\n",
              "    [theme=dark] .colab-df-convert {\n",
              "      background-color: #3B4455;\n",
              "      fill: #D2E3FC;\n",
              "    }\n",
              "\n",
              "    [theme=dark] .colab-df-convert:hover {\n",
              "      background-color: #434B5C;\n",
              "      box-shadow: 0px 1px 3px 1px rgba(0, 0, 0, 0.15);\n",
              "      filter: drop-shadow(0px 1px 2px rgba(0, 0, 0, 0.3));\n",
              "      fill: #FFFFFF;\n",
              "    }\n",
              "  </style>\n",
              "\n",
              "      <script>\n",
              "        const buttonEl =\n",
              "          document.querySelector('#df-23c656a2-c245-4451-92da-e002ac7bb3b4 button.colab-df-convert');\n",
              "        buttonEl.style.display =\n",
              "          google.colab.kernel.accessAllowed ? 'block' : 'none';\n",
              "\n",
              "        async function convertToInteractive(key) {\n",
              "          const element = document.querySelector('#df-23c656a2-c245-4451-92da-e002ac7bb3b4');\n",
              "          const dataTable =\n",
              "            await google.colab.kernel.invokeFunction('convertToInteractive',\n",
              "                                                     [key], {});\n",
              "          if (!dataTable) return;\n",
              "\n",
              "          const docLinkHtml = 'Like what you see? Visit the ' +\n",
              "            '<a target=\"_blank\" href=https://colab.research.google.com/notebooks/data_table.ipynb>data table notebook</a>'\n",
              "            + ' to learn more about interactive tables.';\n",
              "          element.innerHTML = '';\n",
              "          dataTable['output_type'] = 'display_data';\n",
              "          await google.colab.output.renderOutput(dataTable, element);\n",
              "          const docLink = document.createElement('div');\n",
              "          docLink.innerHTML = docLinkHtml;\n",
              "          element.appendChild(docLink);\n",
              "        }\n",
              "      </script>\n",
              "    </div>\n",
              "  </div>\n",
              "  "
            ]
          },
          "metadata": {},
          "execution_count": 11
        }
      ]
    },
    {
      "cell_type": "code",
      "source": [
        "# create a series showing how many users were from each country\n",
        "user_num_country = data[['country']].value_counts(sort=False)\n",
        "print(user_num_country)\n",
        "\n",
        "# assign the series to the dataframe\n",
        "convert_country = convert_num_country.assign(user_total = user_num_country.values)\n",
        "convert_country"
      ],
      "metadata": {
        "colab": {
          "base_uri": "https://localhost:8080/",
          "height": 275
        },
        "id": "fs_bJkGUssiv",
        "outputId": "5fbab5a3-9aa9-4106-8ef9-80c3f9d19943"
      },
      "execution_count": 12,
      "outputs": [
        {
          "output_type": "stream",
          "name": "stdout",
          "text": [
            "country\n",
            "China       76602\n",
            "Germany     13055\n",
            "UK          48449\n",
            "US         178092\n",
            "dtype: int64\n"
          ]
        },
        {
          "output_type": "execute_result",
          "data": {
            "text/plain": [
              "   country  converted  user_total\n",
              "0    China        102       76602\n",
              "1  Germany        815       13055\n",
              "2       UK       2549       48449\n",
              "3       US       6732      178092"
            ],
            "text/html": [
              "\n",
              "  <div id=\"df-05e85bab-64df-4503-8a4f-2bd3898d1f3c\">\n",
              "    <div class=\"colab-df-container\">\n",
              "      <div>\n",
              "<style scoped>\n",
              "    .dataframe tbody tr th:only-of-type {\n",
              "        vertical-align: middle;\n",
              "    }\n",
              "\n",
              "    .dataframe tbody tr th {\n",
              "        vertical-align: top;\n",
              "    }\n",
              "\n",
              "    .dataframe thead th {\n",
              "        text-align: right;\n",
              "    }\n",
              "</style>\n",
              "<table border=\"1\" class=\"dataframe\">\n",
              "  <thead>\n",
              "    <tr style=\"text-align: right;\">\n",
              "      <th></th>\n",
              "      <th>country</th>\n",
              "      <th>converted</th>\n",
              "      <th>user_total</th>\n",
              "    </tr>\n",
              "  </thead>\n",
              "  <tbody>\n",
              "    <tr>\n",
              "      <th>0</th>\n",
              "      <td>China</td>\n",
              "      <td>102</td>\n",
              "      <td>76602</td>\n",
              "    </tr>\n",
              "    <tr>\n",
              "      <th>1</th>\n",
              "      <td>Germany</td>\n",
              "      <td>815</td>\n",
              "      <td>13055</td>\n",
              "    </tr>\n",
              "    <tr>\n",
              "      <th>2</th>\n",
              "      <td>UK</td>\n",
              "      <td>2549</td>\n",
              "      <td>48449</td>\n",
              "    </tr>\n",
              "    <tr>\n",
              "      <th>3</th>\n",
              "      <td>US</td>\n",
              "      <td>6732</td>\n",
              "      <td>178092</td>\n",
              "    </tr>\n",
              "  </tbody>\n",
              "</table>\n",
              "</div>\n",
              "      <button class=\"colab-df-convert\" onclick=\"convertToInteractive('df-05e85bab-64df-4503-8a4f-2bd3898d1f3c')\"\n",
              "              title=\"Convert this dataframe to an interactive table.\"\n",
              "              style=\"display:none;\">\n",
              "        \n",
              "  <svg xmlns=\"http://www.w3.org/2000/svg\" height=\"24px\"viewBox=\"0 0 24 24\"\n",
              "       width=\"24px\">\n",
              "    <path d=\"M0 0h24v24H0V0z\" fill=\"none\"/>\n",
              "    <path d=\"M18.56 5.44l.94 2.06.94-2.06 2.06-.94-2.06-.94-.94-2.06-.94 2.06-2.06.94zm-11 1L8.5 8.5l.94-2.06 2.06-.94-2.06-.94L8.5 2.5l-.94 2.06-2.06.94zm10 10l.94 2.06.94-2.06 2.06-.94-2.06-.94-.94-2.06-.94 2.06-2.06.94z\"/><path d=\"M17.41 7.96l-1.37-1.37c-.4-.4-.92-.59-1.43-.59-.52 0-1.04.2-1.43.59L10.3 9.45l-7.72 7.72c-.78.78-.78 2.05 0 2.83L4 21.41c.39.39.9.59 1.41.59.51 0 1.02-.2 1.41-.59l7.78-7.78 2.81-2.81c.8-.78.8-2.07 0-2.86zM5.41 20L4 18.59l7.72-7.72 1.47 1.35L5.41 20z\"/>\n",
              "  </svg>\n",
              "      </button>\n",
              "      \n",
              "  <style>\n",
              "    .colab-df-container {\n",
              "      display:flex;\n",
              "      flex-wrap:wrap;\n",
              "      gap: 12px;\n",
              "    }\n",
              "\n",
              "    .colab-df-convert {\n",
              "      background-color: #E8F0FE;\n",
              "      border: none;\n",
              "      border-radius: 50%;\n",
              "      cursor: pointer;\n",
              "      display: none;\n",
              "      fill: #1967D2;\n",
              "      height: 32px;\n",
              "      padding: 0 0 0 0;\n",
              "      width: 32px;\n",
              "    }\n",
              "\n",
              "    .colab-df-convert:hover {\n",
              "      background-color: #E2EBFA;\n",
              "      box-shadow: 0px 1px 2px rgba(60, 64, 67, 0.3), 0px 1px 3px 1px rgba(60, 64, 67, 0.15);\n",
              "      fill: #174EA6;\n",
              "    }\n",
              "\n",
              "    [theme=dark] .colab-df-convert {\n",
              "      background-color: #3B4455;\n",
              "      fill: #D2E3FC;\n",
              "    }\n",
              "\n",
              "    [theme=dark] .colab-df-convert:hover {\n",
              "      background-color: #434B5C;\n",
              "      box-shadow: 0px 1px 3px 1px rgba(0, 0, 0, 0.15);\n",
              "      filter: drop-shadow(0px 1px 2px rgba(0, 0, 0, 0.3));\n",
              "      fill: #FFFFFF;\n",
              "    }\n",
              "  </style>\n",
              "\n",
              "      <script>\n",
              "        const buttonEl =\n",
              "          document.querySelector('#df-05e85bab-64df-4503-8a4f-2bd3898d1f3c button.colab-df-convert');\n",
              "        buttonEl.style.display =\n",
              "          google.colab.kernel.accessAllowed ? 'block' : 'none';\n",
              "\n",
              "        async function convertToInteractive(key) {\n",
              "          const element = document.querySelector('#df-05e85bab-64df-4503-8a4f-2bd3898d1f3c');\n",
              "          const dataTable =\n",
              "            await google.colab.kernel.invokeFunction('convertToInteractive',\n",
              "                                                     [key], {});\n",
              "          if (!dataTable) return;\n",
              "\n",
              "          const docLinkHtml = 'Like what you see? Visit the ' +\n",
              "            '<a target=\"_blank\" href=https://colab.research.google.com/notebooks/data_table.ipynb>data table notebook</a>'\n",
              "            + ' to learn more about interactive tables.';\n",
              "          element.innerHTML = '';\n",
              "          dataTable['output_type'] = 'display_data';\n",
              "          await google.colab.output.renderOutput(dataTable, element);\n",
              "          const docLink = document.createElement('div');\n",
              "          docLink.innerHTML = docLinkHtml;\n",
              "          element.appendChild(docLink);\n",
              "        }\n",
              "      </script>\n",
              "    </div>\n",
              "  </div>\n",
              "  "
            ]
          },
          "metadata": {},
          "execution_count": 12
        }
      ]
    },
    {
      "cell_type": "code",
      "source": [
        "# calculate the conversion rates of each country and assign it to the dataframe\n",
        "convert_country = convert_country.assign(convert_rate = lambda x: x['converted'] / x['user_total'])\n",
        "convert_country"
      ],
      "metadata": {
        "colab": {
          "base_uri": "https://localhost:8080/",
          "height": 173
        },
        "id": "1NACVRbQup9D",
        "outputId": "9273d140-f1d7-4ecc-aea1-0ce6750cae5b"
      },
      "execution_count": 13,
      "outputs": [
        {
          "output_type": "execute_result",
          "data": {
            "text/plain": [
              "   country  converted  user_total  convert_rate\n",
              "0    China        102       76602      0.001332\n",
              "1  Germany        815       13055      0.062428\n",
              "2       UK       2549       48449      0.052612\n",
              "3       US       6732      178092      0.037801"
            ],
            "text/html": [
              "\n",
              "  <div id=\"df-8c9eab56-f194-430b-b0ff-554c294b133f\">\n",
              "    <div class=\"colab-df-container\">\n",
              "      <div>\n",
              "<style scoped>\n",
              "    .dataframe tbody tr th:only-of-type {\n",
              "        vertical-align: middle;\n",
              "    }\n",
              "\n",
              "    .dataframe tbody tr th {\n",
              "        vertical-align: top;\n",
              "    }\n",
              "\n",
              "    .dataframe thead th {\n",
              "        text-align: right;\n",
              "    }\n",
              "</style>\n",
              "<table border=\"1\" class=\"dataframe\">\n",
              "  <thead>\n",
              "    <tr style=\"text-align: right;\">\n",
              "      <th></th>\n",
              "      <th>country</th>\n",
              "      <th>converted</th>\n",
              "      <th>user_total</th>\n",
              "      <th>convert_rate</th>\n",
              "    </tr>\n",
              "  </thead>\n",
              "  <tbody>\n",
              "    <tr>\n",
              "      <th>0</th>\n",
              "      <td>China</td>\n",
              "      <td>102</td>\n",
              "      <td>76602</td>\n",
              "      <td>0.001332</td>\n",
              "    </tr>\n",
              "    <tr>\n",
              "      <th>1</th>\n",
              "      <td>Germany</td>\n",
              "      <td>815</td>\n",
              "      <td>13055</td>\n",
              "      <td>0.062428</td>\n",
              "    </tr>\n",
              "    <tr>\n",
              "      <th>2</th>\n",
              "      <td>UK</td>\n",
              "      <td>2549</td>\n",
              "      <td>48449</td>\n",
              "      <td>0.052612</td>\n",
              "    </tr>\n",
              "    <tr>\n",
              "      <th>3</th>\n",
              "      <td>US</td>\n",
              "      <td>6732</td>\n",
              "      <td>178092</td>\n",
              "      <td>0.037801</td>\n",
              "    </tr>\n",
              "  </tbody>\n",
              "</table>\n",
              "</div>\n",
              "      <button class=\"colab-df-convert\" onclick=\"convertToInteractive('df-8c9eab56-f194-430b-b0ff-554c294b133f')\"\n",
              "              title=\"Convert this dataframe to an interactive table.\"\n",
              "              style=\"display:none;\">\n",
              "        \n",
              "  <svg xmlns=\"http://www.w3.org/2000/svg\" height=\"24px\"viewBox=\"0 0 24 24\"\n",
              "       width=\"24px\">\n",
              "    <path d=\"M0 0h24v24H0V0z\" fill=\"none\"/>\n",
              "    <path d=\"M18.56 5.44l.94 2.06.94-2.06 2.06-.94-2.06-.94-.94-2.06-.94 2.06-2.06.94zm-11 1L8.5 8.5l.94-2.06 2.06-.94-2.06-.94L8.5 2.5l-.94 2.06-2.06.94zm10 10l.94 2.06.94-2.06 2.06-.94-2.06-.94-.94-2.06-.94 2.06-2.06.94z\"/><path d=\"M17.41 7.96l-1.37-1.37c-.4-.4-.92-.59-1.43-.59-.52 0-1.04.2-1.43.59L10.3 9.45l-7.72 7.72c-.78.78-.78 2.05 0 2.83L4 21.41c.39.39.9.59 1.41.59.51 0 1.02-.2 1.41-.59l7.78-7.78 2.81-2.81c.8-.78.8-2.07 0-2.86zM5.41 20L4 18.59l7.72-7.72 1.47 1.35L5.41 20z\"/>\n",
              "  </svg>\n",
              "      </button>\n",
              "      \n",
              "  <style>\n",
              "    .colab-df-container {\n",
              "      display:flex;\n",
              "      flex-wrap:wrap;\n",
              "      gap: 12px;\n",
              "    }\n",
              "\n",
              "    .colab-df-convert {\n",
              "      background-color: #E8F0FE;\n",
              "      border: none;\n",
              "      border-radius: 50%;\n",
              "      cursor: pointer;\n",
              "      display: none;\n",
              "      fill: #1967D2;\n",
              "      height: 32px;\n",
              "      padding: 0 0 0 0;\n",
              "      width: 32px;\n",
              "    }\n",
              "\n",
              "    .colab-df-convert:hover {\n",
              "      background-color: #E2EBFA;\n",
              "      box-shadow: 0px 1px 2px rgba(60, 64, 67, 0.3), 0px 1px 3px 1px rgba(60, 64, 67, 0.15);\n",
              "      fill: #174EA6;\n",
              "    }\n",
              "\n",
              "    [theme=dark] .colab-df-convert {\n",
              "      background-color: #3B4455;\n",
              "      fill: #D2E3FC;\n",
              "    }\n",
              "\n",
              "    [theme=dark] .colab-df-convert:hover {\n",
              "      background-color: #434B5C;\n",
              "      box-shadow: 0px 1px 3px 1px rgba(0, 0, 0, 0.15);\n",
              "      filter: drop-shadow(0px 1px 2px rgba(0, 0, 0, 0.3));\n",
              "      fill: #FFFFFF;\n",
              "    }\n",
              "  </style>\n",
              "\n",
              "      <script>\n",
              "        const buttonEl =\n",
              "          document.querySelector('#df-8c9eab56-f194-430b-b0ff-554c294b133f button.colab-df-convert');\n",
              "        buttonEl.style.display =\n",
              "          google.colab.kernel.accessAllowed ? 'block' : 'none';\n",
              "\n",
              "        async function convertToInteractive(key) {\n",
              "          const element = document.querySelector('#df-8c9eab56-f194-430b-b0ff-554c294b133f');\n",
              "          const dataTable =\n",
              "            await google.colab.kernel.invokeFunction('convertToInteractive',\n",
              "                                                     [key], {});\n",
              "          if (!dataTable) return;\n",
              "\n",
              "          const docLinkHtml = 'Like what you see? Visit the ' +\n",
              "            '<a target=\"_blank\" href=https://colab.research.google.com/notebooks/data_table.ipynb>data table notebook</a>'\n",
              "            + ' to learn more about interactive tables.';\n",
              "          element.innerHTML = '';\n",
              "          dataTable['output_type'] = 'display_data';\n",
              "          await google.colab.output.renderOutput(dataTable, element);\n",
              "          const docLink = document.createElement('div');\n",
              "          docLink.innerHTML = docLinkHtml;\n",
              "          element.appendChild(docLink);\n",
              "        }\n",
              "      </script>\n",
              "    </div>\n",
              "  </div>\n",
              "  "
            ]
          },
          "metadata": {},
          "execution_count": 13
        }
      ]
    },
    {
      "cell_type": "markdown",
      "source": [
        "Let's visualize the conversion rates in different countries:"
      ],
      "metadata": {
        "id": "nK1XQw-nrFTY"
      }
    },
    {
      "cell_type": "code",
      "source": [
        "# create a country name list ordered by the conversion rates descendingly\n",
        "order_rate_country = list(convert_country[['country','convert_rate']].sort_values(by='convert_rate', ascending=False)['country'])\n",
        "\n",
        "# create a bar plot of conversion rates of each country\n",
        "sns.catplot(x='country', y='convert_rate', data=convert_country, kind='bar', order=order_rate_country)\n",
        "plt.show()"
      ],
      "metadata": {
        "colab": {
          "base_uri": "https://localhost:8080/",
          "height": 365
        },
        "id": "QepjSo4Ev66y",
        "outputId": "438a40bc-f738-42a9-9bbe-8d3d2076f92b"
      },
      "execution_count": 14,
      "outputs": [
        {
          "output_type": "display_data",
          "data": {
            "text/plain": [
              "<Figure size 360x360 with 1 Axes>"
            ],
            "image/png": "[encoded data removed]"
          },
          "metadata": {}
        }
      ]
    },
    {
      "cell_type": "markdown",
      "source": [
        "__Finding:__\n",
        "\n",
        "We found something interesting in the graph:\n",
        "* Although the users from Germany were the least, Germany had the highest conversion rate.\n",
        "* China had the second largest user base, but the conversion rate was significantly lower than the other 3 countries.\n",
        "* Although the user base of the US was bigger than the UK, the conversion rate of the US was lower than that of the UK.\n"
      ],
      "metadata": {
        "id": "91EaFP4c5_o9"
      }
    },
    {
      "cell_type": "markdown",
      "source": [
        "##### 1.2.1.2 Conversion Rate and Age"
      ],
      "metadata": {
        "id": "1y-SoROsQSwh"
      }
    },
    {
      "cell_type": "markdown",
      "source": [
        "Let's visualize the numbers of users from different age groups:"
      ],
      "metadata": {
        "id": "dQJfbcW5JfMk"
      }
    },
    {
      "cell_type": "code",
      "source": [
        "# create a histogram of the numbers of users in each age group\n",
        "sns.histplot(x='age', data=data, binwidth=5)\n",
        "plt.ylabel('the numbers of users')\n",
        "plt.show()"
      ],
      "metadata": {
        "colab": {
          "base_uri": "https://localhost:8080/",
          "height": 285
        },
        "id": "wYXAoPglhHK8",
        "outputId": "6be6dbc2-08a5-46bb-c294-3b63981da3f8"
      },
      "execution_count": 15,
      "outputs": [
        {
          "output_type": "display_data",
          "data": {
            "text/plain": [
              "<Figure size 432x288 with 1 Axes>"
            ],
            "image/png": "[encoded data removed]"
          },
          "metadata": {}
        }
      ]
    },
    {
      "cell_type": "markdown",
      "source": [
        "__Finding:__\n",
        "\n",
        "* Most of our users were aged 20 - 40 years old."
      ],
      "metadata": {
        "id": "4lJGuCoOK85O"
      }
    },
    {
      "cell_type": "markdown",
      "source": [
        "Let's find out whether age has an influence on conversion or not:"
      ],
      "metadata": {
        "id": "wjc69ZLzLykl"
      }
    },
    {
      "cell_type": "code",
      "source": [
        "# create a box plot showing the age distributions among the converted and unconverted users\n",
        "sns.catplot(x='converted', y='age', data=data, kind='box')\n",
        "plt.show()"
      ],
      "metadata": {
        "colab": {
          "base_uri": "https://localhost:8080/",
          "height": 365
        },
        "id": "b0QT4dV9zQxm",
        "outputId": "873e3662-3e2f-48a4-8487-5d41f0bfd283"
      },
      "execution_count": 16,
      "outputs": [
        {
          "output_type": "display_data",
          "data": {
            "text/plain": [
              "<Figure size 360x360 with 1 Axes>"
            ],
            "image/png": "[encoded data removed]"
          },
          "metadata": {}
        }
      ]
    },
    {
      "cell_type": "markdown",
      "source": [
        "__Finding:__\n",
        "\n",
        "* The converted users were overall younger than the unconverted users, which indicates there might be a relationship between age and conversion."
      ],
      "metadata": {
        "id": "Uma8ny5GLecw"
      }
    },
    {
      "cell_type": "markdown",
      "source": [
        "Let's find out if age has a linear relation with conversion:"
      ],
      "metadata": {
        "id": "vhHqC3gmNEdH"
      }
    },
    {
      "cell_type": "code",
      "source": [
        "# calculate how many users were converted in each age group\n",
        "convert_num_age = data.groupby('age')[['converted']].sum()\n",
        "convert_num_age.reset_index(inplace=True)\n",
        "convert_num_age.head()"
      ],
      "metadata": {
        "colab": {
          "base_uri": "https://localhost:8080/",
          "height": 204
        },
        "id": "lNcsGlec0KDf",
        "outputId": "ffc6e6de-98e9-4cd0-b761-388419bf47f6"
      },
      "execution_count": 17,
      "outputs": [
        {
          "output_type": "execute_result",
          "data": {
            "text/plain": [
              "   age  converted\n",
              "0   17        544\n",
              "1   18        559\n",
              "2   19        548\n",
              "3   20        580\n",
              "4   21        592"
            ],
            "text/html": [
              "\n",
              "  <div id=\"df-e26a8074-1796-41b9-a5ea-e2e376d9d692\">\n",
              "    <div class=\"colab-df-container\">\n",
              "      <div>\n",
              "<style scoped>\n",
              "    .dataframe tbody tr th:only-of-type {\n",
              "        vertical-align: middle;\n",
              "    }\n",
              "\n",
              "    .dataframe tbody tr th {\n",
              "        vertical-align: top;\n",
              "    }\n",
              "\n",
              "    .dataframe thead th {\n",
              "        text-align: right;\n",
              "    }\n",
              "</style>\n",
              "<table border=\"1\" class=\"dataframe\">\n",
              "  <thead>\n",
              "    <tr style=\"text-align: right;\">\n",
              "      <th></th>\n",
              "      <th>age</th>\n",
              "      <th>converted</th>\n",
              "    </tr>\n",
              "  </thead>\n",
              "  <tbody>\n",
              "    <tr>\n",
              "      <th>0</th>\n",
              "      <td>17</td>\n",
              "      <td>544</td>\n",
              "    </tr>\n",
              "    <tr>\n",
              "      <th>1</th>\n",
              "      <td>18</td>\n",
              "      <td>559</td>\n",
              "    </tr>\n",
              "    <tr>\n",
              "      <th>2</th>\n",
              "      <td>19</td>\n",
              "      <td>548</td>\n",
              "    </tr>\n",
              "    <tr>\n",
              "      <th>3</th>\n",
              "      <td>20</td>\n",
              "      <td>580</td>\n",
              "    </tr>\n",
              "    <tr>\n",
              "      <th>4</th>\n",
              "      <td>21</td>\n",
              "      <td>592</td>\n",
              "    </tr>\n",
              "  </tbody>\n",
              "</table>\n",
              "</div>\n",
              "      <button class=\"colab-df-convert\" onclick=\"convertToInteractive('df-e26a8074-1796-41b9-a5ea-e2e376d9d692')\"\n",
              "              title=\"Convert this dataframe to an interactive table.\"\n",
              "              style=\"display:none;\">\n",
              "        \n",
              "  <svg xmlns=\"http://www.w3.org/2000/svg\" height=\"24px\"viewBox=\"0 0 24 24\"\n",
              "       width=\"24px\">\n",
              "    <path d=\"M0 0h24v24H0V0z\" fill=\"none\"/>\n",
              "    <path d=\"M18.56 5.44l.94 2.06.94-2.06 2.06-.94-2.06-.94-.94-2.06-.94 2.06-2.06.94zm-11 1L8.5 8.5l.94-2.06 2.06-.94-2.06-.94L8.5 2.5l-.94 2.06-2.06.94zm10 10l.94 2.06.94-2.06 2.06-.94-2.06-.94-.94-2.06-.94 2.06-2.06.94z\"/><path d=\"M17.41 7.96l-1.37-1.37c-.4-.4-.92-.59-1.43-.59-.52 0-1.04.2-1.43.59L10.3 9.45l-7.72 7.72c-.78.78-.78 2.05 0 2.83L4 21.41c.39.39.9.59 1.41.59.51 0 1.02-.2 1.41-.59l7.78-7.78 2.81-2.81c.8-.78.8-2.07 0-2.86zM5.41 20L4 18.59l7.72-7.72 1.47 1.35L5.41 20z\"/>\n",
              "  </svg>\n",
              "      </button>\n",
              "      \n",
              "  <style>\n",
              "    .colab-df-container {\n",
              "      display:flex;\n",
              "      flex-wrap:wrap;\n",
              "      gap: 12px;\n",
              "    }\n",
              "\n",
              "    .colab-df-convert {\n",
              "      background-color: #E8F0FE;\n",
              "      border: none;\n",
              "      border-radius: 50%;\n",
              "      cursor: pointer;\n",
              "      display: none;\n",
              "      fill: #1967D2;\n",
              "      height: 32px;\n",
              "      padding: 0 0 0 0;\n",
              "      width: 32px;\n",
              "    }\n",
              "\n",
              "    .colab-df-convert:hover {\n",
              "      background-color: #E2EBFA;\n",
              "      box-shadow: 0px 1px 2px rgba(60, 64, 67, 0.3), 0px 1px 3px 1px rgba(60, 64, 67, 0.15);\n",
              "      fill: #174EA6;\n",
              "    }\n",
              "\n",
              "    [theme=dark] .colab-df-convert {\n",
              "      background-color: #3B4455;\n",
              "      fill: #D2E3FC;\n",
              "    }\n",
              "\n",
              "    [theme=dark] .colab-df-convert:hover {\n",
              "      background-color: #434B5C;\n",
              "      box-shadow: 0px 1px 3px 1px rgba(0, 0, 0, 0.15);\n",
              "      filter: drop-shadow(0px 1px 2px rgba(0, 0, 0, 0.3));\n",
              "      fill: #FFFFFF;\n",
              "    }\n",
              "  </style>\n",
              "\n",
              "      <script>\n",
              "        const buttonEl =\n",
              "          document.querySelector('#df-e26a8074-1796-41b9-a5ea-e2e376d9d692 button.colab-df-convert');\n",
              "        buttonEl.style.display =\n",
              "          google.colab.kernel.accessAllowed ? 'block' : 'none';\n",
              "\n",
              "        async function convertToInteractive(key) {\n",
              "          const element = document.querySelector('#df-e26a8074-1796-41b9-a5ea-e2e376d9d692');\n",
              "          const dataTable =\n",
              "            await google.colab.kernel.invokeFunction('convertToInteractive',\n",
              "                                                     [key], {});\n",
              "          if (!dataTable) return;\n",
              "\n",
              "          const docLinkHtml = 'Like what you see? Visit the ' +\n",
              "            '<a target=\"_blank\" href=https://colab.research.google.com/notebooks/data_table.ipynb>data table notebook</a>'\n",
              "            + ' to learn more about interactive tables.';\n",
              "          element.innerHTML = '';\n",
              "          dataTable['output_type'] = 'display_data';\n",
              "          await google.colab.output.renderOutput(dataTable, element);\n",
              "          const docLink = document.createElement('div');\n",
              "          docLink.innerHTML = docLinkHtml;\n",
              "          element.appendChild(docLink);\n",
              "        }\n",
              "      </script>\n",
              "    </div>\n",
              "  </div>\n",
              "  "
            ]
          },
          "metadata": {},
          "execution_count": 17
        }
      ]
    },
    {
      "cell_type": "code",
      "source": [
        "# create a regression plot showing the relationship between age and the number of converted users\n",
        "sns.regplot(data=convert_num_age, x='age',  y='converted', order=4)\n",
        "plt.ylabel('the numbers of converted users')\n",
        "plt.show()"
      ],
      "metadata": {
        "colab": {
          "base_uri": "https://localhost:8080/",
          "height": 285
        },
        "id": "KqcZ0dBH0u_X",
        "outputId": "e1fdd3ee-804d-4fdc-99a7-fbb87f9f9f51"
      },
      "execution_count": 18,
      "outputs": [
        {
          "output_type": "display_data",
          "data": {
            "text/plain": [
              "<Figure size 432x288 with 1 Axes>"
            ],
            "image/png": "[encoded data removed]"
          },
          "metadata": {}
        }
      ]
    },
    {
      "cell_type": "markdown",
      "source": [
        "__Finding:__\n",
        "* Age had a 4th-degree polynomial curvilinear relationship with the the number of the converted users. "
      ],
      "metadata": {
        "id": "OyWBFz76NjjY"
      }
    },
    {
      "cell_type": "markdown",
      "source": [
        "#### 1.2.2 Conversion Rate and Marketing Channel Sources"
      ],
      "metadata": {
        "id": "AJiFjsqB76md"
      }
    },
    {
      "cell_type": "markdown",
      "source": [
        "Let's visualize the numbers of users from different marketing channel sources:"
      ],
      "metadata": {
        "id": "UAWqdWeTFkmu"
      }
    },
    {
      "cell_type": "code",
      "source": [
        "# create a source name list ordered by the numbers of users descendingly\n",
        "order_source = list(data['source'].value_counts(sort=True).index)\n",
        "\n",
        "# create a count plot of the numbers of users from each source\n",
        "sns.countplot(x=\"source\", data=data, order=order_source)\n",
        "plt.ylabel('the numbers of users')\n",
        "plt.show()"
      ],
      "metadata": {
        "colab": {
          "base_uri": "https://localhost:8080/",
          "height": 285
        },
        "id": "4ebT7NwQsR8_",
        "outputId": "d1680828-efc5-46e9-9ee5-8dd16f665f25"
      },
      "execution_count": 19,
      "outputs": [
        {
          "output_type": "display_data",
          "data": {
            "text/plain": [
              "<Figure size 432x288 with 1 Axes>"
            ],
            "image/png": "[encoded data removed]"
          },
          "metadata": {}
        }
      ]
    },
    {
      "cell_type": "markdown",
      "source": [
        "__Finding:__\n",
        "* The seo source brought the most users to our website, which accounted for roughly 1/2 of the users. \n",
        "* The ads source was slightly better than the direct source.  "
      ],
      "metadata": {
        "id": "JveXR0ieg3Td"
      }
    },
    {
      "cell_type": "markdown",
      "source": [
        "Let's find out the conversion rate among different sources:"
      ],
      "metadata": {
        "id": "WrFUkOBiGU5p"
      }
    },
    {
      "cell_type": "code",
      "source": [
        "# create a dataframe showing how many users were converted from each source\n",
        "convert_num_source = data.groupby('source')[['converted']].sum()\n",
        "convert_num_source.reset_index(inplace=True)\n",
        "print(convert_num_source)\n",
        "\n",
        "# create a series showing the total numbers of users from each source\n",
        "user_num_source = data[['source']].value_counts(sort=False)\n",
        "# assign the series to the dataframe\n",
        "convert_source = convert_num_source.assign(user_total = user_num_source.values)\n",
        "print(convert_source)\n",
        "\n",
        "# calculate the conversion rates of each source and assign it to the dataframe\n",
        "convert_source = convert_source.assign(convert_rate = lambda x: x['converted'] / x['user_total'])\n",
        "convert_source"
      ],
      "metadata": {
        "colab": {
          "base_uri": "https://localhost:8080/",
          "height": 278
        },
        "id": "6BEUH6WfxXvq",
        "outputId": "d0aea159-a062-46c0-c31c-4e687e40132a"
      },
      "execution_count": 20,
      "outputs": [
        {
          "output_type": "stream",
          "name": "stdout",
          "text": [
            "   source  converted\n",
            "0     Ads       3059\n",
            "1  Direct       2040\n",
            "2     Seo       5099\n",
            "   source  converted  user_total\n",
            "0     Ads       3059       88739\n",
            "1  Direct       2040       72420\n",
            "2     Seo       5099      155039\n"
          ]
        },
        {
          "output_type": "execute_result",
          "data": {
            "text/plain": [
              "   source  converted  user_total  convert_rate\n",
              "0     Ads       3059       88739      0.034472\n",
              "1  Direct       2040       72420      0.028169\n",
              "2     Seo       5099      155039      0.032888"
            ],
            "text/html": [
              "\n",
              "  <div id=\"df-780614db-26c8-4fc1-a92e-c4994ac07689\">\n",
              "    <div class=\"colab-df-container\">\n",
              "      <div>\n",
              "<style scoped>\n",
              "    .dataframe tbody tr th:only-of-type {\n",
              "        vertical-align: middle;\n",
              "    }\n",
              "\n",
              "    .dataframe tbody tr th {\n",
              "        vertical-align: top;\n",
              "    }\n",
              "\n",
              "    .dataframe thead th {\n",
              "        text-align: right;\n",
              "    }\n",
              "</style>\n",
              "<table border=\"1\" class=\"dataframe\">\n",
              "  <thead>\n",
              "    <tr style=\"text-align: right;\">\n",
              "      <th></th>\n",
              "      <th>source</th>\n",
              "      <th>converted</th>\n",
              "      <th>user_total</th>\n",
              "      <th>convert_rate</th>\n",
              "    </tr>\n",
              "  </thead>\n",
              "  <tbody>\n",
              "    <tr>\n",
              "      <th>0</th>\n",
              "      <td>Ads</td>\n",
              "      <td>3059</td>\n",
              "      <td>88739</td>\n",
              "      <td>0.034472</td>\n",
              "    </tr>\n",
              "    <tr>\n",
              "      <th>1</th>\n",
              "      <td>Direct</td>\n",
              "      <td>2040</td>\n",
              "      <td>72420</td>\n",
              "      <td>0.028169</td>\n",
              "    </tr>\n",
              "    <tr>\n",
              "      <th>2</th>\n",
              "      <td>Seo</td>\n",
              "      <td>5099</td>\n",
              "      <td>155039</td>\n",
              "      <td>0.032888</td>\n",
              "    </tr>\n",
              "  </tbody>\n",
              "</table>\n",
              "</div>\n",
              "      <button class=\"colab-df-convert\" onclick=\"convertToInteractive('df-780614db-26c8-4fc1-a92e-c4994ac07689')\"\n",
              "              title=\"Convert this dataframe to an interactive table.\"\n",
              "              style=\"display:none;\">\n",
              "        \n",
              "  <svg xmlns=\"http://www.w3.org/2000/svg\" height=\"24px\"viewBox=\"0 0 24 24\"\n",
              "       width=\"24px\">\n",
              "    <path d=\"M0 0h24v24H0V0z\" fill=\"none\"/>\n",
              "    <path d=\"M18.56 5.44l.94 2.06.94-2.06 2.06-.94-2.06-.94-.94-2.06-.94 2.06-2.06.94zm-11 1L8.5 8.5l.94-2.06 2.06-.94-2.06-.94L8.5 2.5l-.94 2.06-2.06.94zm10 10l.94 2.06.94-2.06 2.06-.94-2.06-.94-.94-2.06-.94 2.06-2.06.94z\"/><path d=\"M17.41 7.96l-1.37-1.37c-.4-.4-.92-.59-1.43-.59-.52 0-1.04.2-1.43.59L10.3 9.45l-7.72 7.72c-.78.78-.78 2.05 0 2.83L4 21.41c.39.39.9.59 1.41.59.51 0 1.02-.2 1.41-.59l7.78-7.78 2.81-2.81c.8-.78.8-2.07 0-2.86zM5.41 20L4 18.59l7.72-7.72 1.47 1.35L5.41 20z\"/>\n",
              "  </svg>\n",
              "      </button>\n",
              "      \n",
              "  <style>\n",
              "    .colab-df-container {\n",
              "      display:flex;\n",
              "      flex-wrap:wrap;\n",
              "      gap: 12px;\n",
              "    }\n",
              "\n",
              "    .colab-df-convert {\n",
              "      background-color: #E8F0FE;\n",
              "      border: none;\n",
              "      border-radius: 50%;\n",
              "      cursor: pointer;\n",
              "      display: none;\n",
              "      fill: #1967D2;\n",
              "      height: 32px;\n",
              "      padding: 0 0 0 0;\n",
              "      width: 32px;\n",
              "    }\n",
              "\n",
              "    .colab-df-convert:hover {\n",
              "      background-color: #E2EBFA;\n",
              "      box-shadow: 0px 1px 2px rgba(60, 64, 67, 0.3), 0px 1px 3px 1px rgba(60, 64, 67, 0.15);\n",
              "      fill: #174EA6;\n",
              "    }\n",
              "\n",
              "    [theme=dark] .colab-df-convert {\n",
              "      background-color: #3B4455;\n",
              "      fill: #D2E3FC;\n",
              "    }\n",
              "\n",
              "    [theme=dark] .colab-df-convert:hover {\n",
              "      background-color: #434B5C;\n",
              "      box-shadow: 0px 1px 3px 1px rgba(0, 0, 0, 0.15);\n",
              "      filter: drop-shadow(0px 1px 2px rgba(0, 0, 0, 0.3));\n",
              "      fill: #FFFFFF;\n",
              "    }\n",
              "  </style>\n",
              "\n",
              "      <script>\n",
              "        const buttonEl =\n",
              "          document.querySelector('#df-780614db-26c8-4fc1-a92e-c4994ac07689 button.colab-df-convert');\n",
              "        buttonEl.style.display =\n",
              "          google.colab.kernel.accessAllowed ? 'block' : 'none';\n",
              "\n",
              "        async function convertToInteractive(key) {\n",
              "          const element = document.querySelector('#df-780614db-26c8-4fc1-a92e-c4994ac07689');\n",
              "          const dataTable =\n",
              "            await google.colab.kernel.invokeFunction('convertToInteractive',\n",
              "                                                     [key], {});\n",
              "          if (!dataTable) return;\n",
              "\n",
              "          const docLinkHtml = 'Like what you see? Visit the ' +\n",
              "            '<a target=\"_blank\" href=https://colab.research.google.com/notebooks/data_table.ipynb>data table notebook</a>'\n",
              "            + ' to learn more about interactive tables.';\n",
              "          element.innerHTML = '';\n",
              "          dataTable['output_type'] = 'display_data';\n",
              "          await google.colab.output.renderOutput(dataTable, element);\n",
              "          const docLink = document.createElement('div');\n",
              "          docLink.innerHTML = docLinkHtml;\n",
              "          element.appendChild(docLink);\n",
              "        }\n",
              "      </script>\n",
              "    </div>\n",
              "  </div>\n",
              "  "
            ]
          },
          "metadata": {},
          "execution_count": 20
        }
      ]
    },
    {
      "cell_type": "code",
      "source": [
        "# create a source name list ordered by the conversion rates descendingly\n",
        "order_rate_source = list(convert_source[['source','convert_rate']].sort_values(by='convert_rate', ascending=False)['source'])\n",
        "\n",
        "# create a bar plot of conversion rates of each source\n",
        "sns.catplot(x='source', y='convert_rate', data=convert_source, kind='bar', order=order_rate_source)\n",
        "plt.show()"
      ],
      "metadata": {
        "colab": {
          "base_uri": "https://localhost:8080/",
          "height": 365
        },
        "id": "WU3MJqTqyDhp",
        "outputId": "026fbf17-e4fa-4f53-ef61-5455c1c6e415"
      },
      "execution_count": 21,
      "outputs": [
        {
          "output_type": "display_data",
          "data": {
            "text/plain": [
              "<Figure size 360x360 with 1 Axes>"
            ],
            "image/png": "[encoded data removed]"
          },
          "metadata": {}
        }
      ]
    },
    {
      "cell_type": "markdown",
      "source": [
        "__Finding:__\n",
        "* The ads source had the biggest conversion rate, while the direct source had the least. The conversion rate of the seo source was close to that of the ads source."
      ],
      "metadata": {
        "id": "TTiMbhlWG8ms"
      }
    },
    {
      "cell_type": "markdown",
      "source": [
        "#### 1.2.3 Conversion Rate and User Engagement"
      ],
      "metadata": {
        "id": "Te2rgfojRt9g"
      }
    },
    {
      "cell_type": "markdown",
      "source": [
        "Let's find out how many pages a user visited during the session:"
      ],
      "metadata": {
        "id": "oWUWQFJ7SAqJ"
      }
    },
    {
      "cell_type": "code",
      "source": [
        "# create a histogram of the total numbers of users of each number of pages visited by a user\n",
        "sns.histplot(x='total_pages_visited', data=data, binwidth=1)\n",
        "plt.ylabel('the numbers of users')\n",
        "plt.show()"
      ],
      "metadata": {
        "colab": {
          "base_uri": "https://localhost:8080/",
          "height": 285
        },
        "id": "OPvePKPtqFON",
        "outputId": "78df29bb-3c45-4242-b758-90438b7d9fa7"
      },
      "execution_count": 22,
      "outputs": [
        {
          "output_type": "display_data",
          "data": {
            "text/plain": [
              "<Figure size 432x288 with 1 Axes>"
            ],
            "image/png": "[encoded data removed]"
          },
          "metadata": {}
        }
      ]
    },
    {
      "cell_type": "markdown",
      "source": [
        "__Finding:__\n",
        "* Most users visited 1-7 pages during the session."
      ],
      "metadata": {
        "id": "SRiPjoZtSP2N"
      }
    },
    {
      "cell_type": "markdown",
      "source": [
        "Let's find out whether user engagement has an influence on conversion or not:"
      ],
      "metadata": {
        "id": "DlHk6rkpSrCH"
      }
    },
    {
      "cell_type": "code",
      "source": [
        "# create a box plot showing the total_pages_visited distributions among the converted and unconverted users\n",
        "sns.catplot(x='converted', y='total_pages_visited', data=data, kind='box')\n",
        "plt.show()"
      ],
      "metadata": {
        "colab": {
          "base_uri": "https://localhost:8080/",
          "height": 365
        },
        "id": "OudRDKrwSuoW",
        "outputId": "86878522-e4a8-4d06-ba25-cf1266eb7221"
      },
      "execution_count": 23,
      "outputs": [
        {
          "output_type": "display_data",
          "data": {
            "text/plain": [
              "<Figure size 360x360 with 1 Axes>"
            ],
            "image/png": "[encoded data removed]"
          },
          "metadata": {}
        }
      ]
    },
    {
      "cell_type": "markdown",
      "source": [
        "__Finding:__\n",
        "* The converted users overall had more engagement than the unconverted users.\n",
        "* Most converted users visited 12-17 pages during the session."
      ],
      "metadata": {
        "id": "YQwx32jXTAKg"
      }
    },
    {
      "cell_type": "markdown",
      "source": [
        "Let's find out if the total pages visited by a user during the session has a linear relation with conversion:"
      ],
      "metadata": {
        "id": "ppS1I-CvW9_u"
      }
    },
    {
      "cell_type": "code",
      "source": [
        "# calculate how many users were converted in each total_pages_visited\n",
        "convert_num_pages = data.groupby('total_pages_visited')[['converted']].sum()\n",
        "convert_num_pages.reset_index(inplace=True)\n",
        "convert_num_pages.head()"
      ],
      "metadata": {
        "colab": {
          "base_uri": "https://localhost:8080/",
          "height": 204
        },
        "id": "joNUYaK7UJUM",
        "outputId": "127c3dc5-d77d-4540-d164-bf3bb38598b5"
      },
      "execution_count": 24,
      "outputs": [
        {
          "output_type": "execute_result",
          "data": {
            "text/plain": [
              "   total_pages_visited  converted\n",
              "0                    1          0\n",
              "1                    2         10\n",
              "2                    3         11\n",
              "3                    4         32\n",
              "4                    5         57"
            ],
            "text/html": [
              "\n",
              "  <div id=\"df-0f1fd00c-6ea8-4fcf-a90f-6981a196f1f9\">\n",
              "    <div class=\"colab-df-container\">\n",
              "      <div>\n",
              "<style scoped>\n",
              "    .dataframe tbody tr th:only-of-type {\n",
              "        vertical-align: middle;\n",
              "    }\n",
              "\n",
              "    .dataframe tbody tr th {\n",
              "        vertical-align: top;\n",
              "    }\n",
              "\n",
              "    .dataframe thead th {\n",
              "        text-align: right;\n",
              "    }\n",
              "</style>\n",
              "<table border=\"1\" class=\"dataframe\">\n",
              "  <thead>\n",
              "    <tr style=\"text-align: right;\">\n",
              "      <th></th>\n",
              "      <th>total_pages_visited</th>\n",
              "      <th>converted</th>\n",
              "    </tr>\n",
              "  </thead>\n",
              "  <tbody>\n",
              "    <tr>\n",
              "      <th>0</th>\n",
              "      <td>1</td>\n",
              "      <td>0</td>\n",
              "    </tr>\n",
              "    <tr>\n",
              "      <th>1</th>\n",
              "      <td>2</td>\n",
              "      <td>10</td>\n",
              "    </tr>\n",
              "    <tr>\n",
              "      <th>2</th>\n",
              "      <td>3</td>\n",
              "      <td>11</td>\n",
              "    </tr>\n",
              "    <tr>\n",
              "      <th>3</th>\n",
              "      <td>4</td>\n",
              "      <td>32</td>\n",
              "    </tr>\n",
              "    <tr>\n",
              "      <th>4</th>\n",
              "      <td>5</td>\n",
              "      <td>57</td>\n",
              "    </tr>\n",
              "  </tbody>\n",
              "</table>\n",
              "</div>\n",
              "      <button class=\"colab-df-convert\" onclick=\"convertToInteractive('df-0f1fd00c-6ea8-4fcf-a90f-6981a196f1f9')\"\n",
              "              title=\"Convert this dataframe to an interactive table.\"\n",
              "              style=\"display:none;\">\n",
              "        \n",
              "  <svg xmlns=\"http://www.w3.org/2000/svg\" height=\"24px\"viewBox=\"0 0 24 24\"\n",
              "       width=\"24px\">\n",
              "    <path d=\"M0 0h24v24H0V0z\" fill=\"none\"/>\n",
              "    <path d=\"M18.56 5.44l.94 2.06.94-2.06 2.06-.94-2.06-.94-.94-2.06-.94 2.06-2.06.94zm-11 1L8.5 8.5l.94-2.06 2.06-.94-2.06-.94L8.5 2.5l-.94 2.06-2.06.94zm10 10l.94 2.06.94-2.06 2.06-.94-2.06-.94-.94-2.06-.94 2.06-2.06.94z\"/><path d=\"M17.41 7.96l-1.37-1.37c-.4-.4-.92-.59-1.43-.59-.52 0-1.04.2-1.43.59L10.3 9.45l-7.72 7.72c-.78.78-.78 2.05 0 2.83L4 21.41c.39.39.9.59 1.41.59.51 0 1.02-.2 1.41-.59l7.78-7.78 2.81-2.81c.8-.78.8-2.07 0-2.86zM5.41 20L4 18.59l7.72-7.72 1.47 1.35L5.41 20z\"/>\n",
              "  </svg>\n",
              "      </button>\n",
              "      \n",
              "  <style>\n",
              "    .colab-df-container {\n",
              "      display:flex;\n",
              "      flex-wrap:wrap;\n",
              "      gap: 12px;\n",
              "    }\n",
              "\n",
              "    .colab-df-convert {\n",
              "      background-color: #E8F0FE;\n",
              "      border: none;\n",
              "      border-radius: 50%;\n",
              "      cursor: pointer;\n",
              "      display: none;\n",
              "      fill: #1967D2;\n",
              "      height: 32px;\n",
              "      padding: 0 0 0 0;\n",
              "      width: 32px;\n",
              "    }\n",
              "\n",
              "    .colab-df-convert:hover {\n",
              "      background-color: #E2EBFA;\n",
              "      box-shadow: 0px 1px 2px rgba(60, 64, 67, 0.3), 0px 1px 3px 1px rgba(60, 64, 67, 0.15);\n",
              "      fill: #174EA6;\n",
              "    }\n",
              "\n",
              "    [theme=dark] .colab-df-convert {\n",
              "      background-color: #3B4455;\n",
              "      fill: #D2E3FC;\n",
              "    }\n",
              "\n",
              "    [theme=dark] .colab-df-convert:hover {\n",
              "      background-color: #434B5C;\n",
              "      box-shadow: 0px 1px 3px 1px rgba(0, 0, 0, 0.15);\n",
              "      filter: drop-shadow(0px 1px 2px rgba(0, 0, 0, 0.3));\n",
              "      fill: #FFFFFF;\n",
              "    }\n",
              "  </style>\n",
              "\n",
              "      <script>\n",
              "        const buttonEl =\n",
              "          document.querySelector('#df-0f1fd00c-6ea8-4fcf-a90f-6981a196f1f9 button.colab-df-convert');\n",
              "        buttonEl.style.display =\n",
              "          google.colab.kernel.accessAllowed ? 'block' : 'none';\n",
              "\n",
              "        async function convertToInteractive(key) {\n",
              "          const element = document.querySelector('#df-0f1fd00c-6ea8-4fcf-a90f-6981a196f1f9');\n",
              "          const dataTable =\n",
              "            await google.colab.kernel.invokeFunction('convertToInteractive',\n",
              "                                                     [key], {});\n",
              "          if (!dataTable) return;\n",
              "\n",
              "          const docLinkHtml = 'Like what you see? Visit the ' +\n",
              "            '<a target=\"_blank\" href=https://colab.research.google.com/notebooks/data_table.ipynb>data table notebook</a>'\n",
              "            + ' to learn more about interactive tables.';\n",
              "          element.innerHTML = '';\n",
              "          dataTable['output_type'] = 'display_data';\n",
              "          await google.colab.output.renderOutput(dataTable, element);\n",
              "          const docLink = document.createElement('div');\n",
              "          docLink.innerHTML = docLinkHtml;\n",
              "          element.appendChild(docLink);\n",
              "        }\n",
              "      </script>\n",
              "    </div>\n",
              "  </div>\n",
              "  "
            ]
          },
          "metadata": {},
          "execution_count": 24
        }
      ]
    },
    {
      "cell_type": "code",
      "source": [
        "# create a regression plot showing the relationship between total_pages_visited and the number of converted users\n",
        "sns.regplot(data=convert_num_pages, x='total_pages_visited',  y='converted', order=4)\n",
        "plt.ylabel('the numbers of converted users')\n",
        "plt.show()"
      ],
      "metadata": {
        "colab": {
          "base_uri": "https://localhost:8080/",
          "height": 285
        },
        "id": "_Fp9aPnxUVUY",
        "outputId": "1a5ed844-ecdb-4e51-a2db-4ba80d6d51eb"
      },
      "execution_count": 25,
      "outputs": [
        {
          "output_type": "display_data",
          "data": {
            "text/plain": [
              "<Figure size 432x288 with 1 Axes>"
            ],
            "image/png": "[encoded data removed]"
          },
          "metadata": {}
        }
      ]
    },
    {
      "cell_type": "markdown",
      "source": [
        "__Finding:__\n",
        "* The total pages visited by a user during the session had a 4th-degree polynomial curvilinear relationship with the number of converted users. "
      ],
      "metadata": {
        "id": "Uhe5sA1bWbN7"
      }
    },
    {
      "cell_type": "markdown",
      "source": [
        "#### 1.2.4 Conversion Rate and New Users"
      ],
      "metadata": {
        "id": "rb0DVfibXcat"
      }
    },
    {
      "cell_type": "markdown",
      "source": [
        "Let's visualize the total numbers of the old users and the new users:"
      ],
      "metadata": {
        "id": "QqRTVNiYYcTp"
      }
    },
    {
      "cell_type": "code",
      "source": [
        "# create a count plot of the numbers of users of the old users and the new users\n",
        "sns.countplot(x=\"new_user\", data=data)\n",
        "plt.ylabel('the numbers of users')\n",
        "plt.show()"
      ],
      "metadata": {
        "colab": {
          "base_uri": "https://localhost:8080/",
          "height": 285
        },
        "id": "OpOBlasRqglc",
        "outputId": "cb3fd639-d339-4174-bcc2-24a2255a68a5"
      },
      "execution_count": 26,
      "outputs": [
        {
          "output_type": "display_data",
          "data": {
            "text/plain": [
              "<Figure size 432x288 with 1 Axes>"
            ],
            "image/png": "[encoded data removed]"
          },
          "metadata": {}
        }
      ]
    },
    {
      "cell_type": "markdown",
      "source": [
        "__Finding:__\n",
        "* Roughly 2/3 of the users who came to our website were new users."
      ],
      "metadata": {
        "id": "8kTr9omEYzL1"
      }
    },
    {
      "cell_type": "markdown",
      "source": [
        "Let's find out whether the new users and the old users had difference in conversion rates:"
      ],
      "metadata": {
        "id": "P3B1HsJNdd5R"
      }
    },
    {
      "cell_type": "code",
      "source": [
        "# create a dataframe showing how many old users and new users were converted\n",
        "convert_num_new_user = data.groupby('new_user')[['converted']].sum()\n",
        "convert_num_new_user.reset_index(inplace=True)\n",
        "print(convert_num_new_user)\n",
        "\n",
        "# create a series showing how many users were the old users and how many users were the new users and assign it to the dataframe\n",
        "user_num_new= data[['new_user']].value_counts(sort=False)\n",
        "convert_new_user = convert_num_new_user.assign(user_total = user_num_new.values)\n",
        "print(convert_new_user)\n",
        "\n",
        "# calculate the conversion rates of the old users and the new users\n",
        "convert_new_user = convert_new_user.assign(convert_rate = lambda x: x['converted'] / x['user_total'])\n",
        "convert_new_user"
      ],
      "metadata": {
        "colab": {
          "base_uri": "https://localhost:8080/",
          "height": 213
        },
        "id": "WOzjpKo5alj-",
        "outputId": "95d5caa5-2783-464c-d554-15dbca4d8ec1"
      },
      "execution_count": 27,
      "outputs": [
        {
          "output_type": "stream",
          "name": "stdout",
          "text": [
            "   new_user  converted\n",
            "0         0       7159\n",
            "1         1       3039\n",
            "   new_user  converted  user_total\n",
            "0         0       7159       99454\n",
            "1         1       3039      216744\n"
          ]
        },
        {
          "output_type": "execute_result",
          "data": {
            "text/plain": [
              "   new_user  converted  user_total  convert_rate\n",
              "0         0       7159       99454      0.071983\n",
              "1         1       3039      216744      0.014021"
            ],
            "text/html": [
              "\n",
              "  <div id=\"df-04c6b926-a539-4c40-bc62-c99e0507ecb9\">\n",
              "    <div class=\"colab-df-container\">\n",
              "      <div>\n",
              "<style scoped>\n",
              "    .dataframe tbody tr th:only-of-type {\n",
              "        vertical-align: middle;\n",
              "    }\n",
              "\n",
              "    .dataframe tbody tr th {\n",
              "        vertical-align: top;\n",
              "    }\n",
              "\n",
              "    .dataframe thead th {\n",
              "        text-align: right;\n",
              "    }\n",
              "</style>\n",
              "<table border=\"1\" class=\"dataframe\">\n",
              "  <thead>\n",
              "    <tr style=\"text-align: right;\">\n",
              "      <th></th>\n",
              "      <th>new_user</th>\n",
              "      <th>converted</th>\n",
              "      <th>user_total</th>\n",
              "      <th>convert_rate</th>\n",
              "    </tr>\n",
              "  </thead>\n",
              "  <tbody>\n",
              "    <tr>\n",
              "      <th>0</th>\n",
              "      <td>0</td>\n",
              "      <td>7159</td>\n",
              "      <td>99454</td>\n",
              "      <td>0.071983</td>\n",
              "    </tr>\n",
              "    <tr>\n",
              "      <th>1</th>\n",
              "      <td>1</td>\n",
              "      <td>3039</td>\n",
              "      <td>216744</td>\n",
              "      <td>0.014021</td>\n",
              "    </tr>\n",
              "  </tbody>\n",
              "</table>\n",
              "</div>\n",
              "      <button class=\"colab-df-convert\" onclick=\"convertToInteractive('df-04c6b926-a539-4c40-bc62-c99e0507ecb9')\"\n",
              "              title=\"Convert this dataframe to an interactive table.\"\n",
              "              style=\"display:none;\">\n",
              "        \n",
              "  <svg xmlns=\"http://www.w3.org/2000/svg\" height=\"24px\"viewBox=\"0 0 24 24\"\n",
              "       width=\"24px\">\n",
              "    <path d=\"M0 0h24v24H0V0z\" fill=\"none\"/>\n",
              "    <path d=\"M18.56 5.44l.94 2.06.94-2.06 2.06-.94-2.06-.94-.94-2.06-.94 2.06-2.06.94zm-11 1L8.5 8.5l.94-2.06 2.06-.94-2.06-.94L8.5 2.5l-.94 2.06-2.06.94zm10 10l.94 2.06.94-2.06 2.06-.94-2.06-.94-.94-2.06-.94 2.06-2.06.94z\"/><path d=\"M17.41 7.96l-1.37-1.37c-.4-.4-.92-.59-1.43-.59-.52 0-1.04.2-1.43.59L10.3 9.45l-7.72 7.72c-.78.78-.78 2.05 0 2.83L4 21.41c.39.39.9.59 1.41.59.51 0 1.02-.2 1.41-.59l7.78-7.78 2.81-2.81c.8-.78.8-2.07 0-2.86zM5.41 20L4 18.59l7.72-7.72 1.47 1.35L5.41 20z\"/>\n",
              "  </svg>\n",
              "      </button>\n",
              "      \n",
              "  <style>\n",
              "    .colab-df-container {\n",
              "      display:flex;\n",
              "      flex-wrap:wrap;\n",
              "      gap: 12px;\n",
              "    }\n",
              "\n",
              "    .colab-df-convert {\n",
              "      background-color: #E8F0FE;\n",
              "      border: none;\n",
              "      border-radius: 50%;\n",
              "      cursor: pointer;\n",
              "      display: none;\n",
              "      fill: #1967D2;\n",
              "      height: 32px;\n",
              "      padding: 0 0 0 0;\n",
              "      width: 32px;\n",
              "    }\n",
              "\n",
              "    .colab-df-convert:hover {\n",
              "      background-color: #E2EBFA;\n",
              "      box-shadow: 0px 1px 2px rgba(60, 64, 67, 0.3), 0px 1px 3px 1px rgba(60, 64, 67, 0.15);\n",
              "      fill: #174EA6;\n",
              "    }\n",
              "\n",
              "    [theme=dark] .colab-df-convert {\n",
              "      background-color: #3B4455;\n",
              "      fill: #D2E3FC;\n",
              "    }\n",
              "\n",
              "    [theme=dark] .colab-df-convert:hover {\n",
              "      background-color: #434B5C;\n",
              "      box-shadow: 0px 1px 3px 1px rgba(0, 0, 0, 0.15);\n",
              "      filter: drop-shadow(0px 1px 2px rgba(0, 0, 0, 0.3));\n",
              "      fill: #FFFFFF;\n",
              "    }\n",
              "  </style>\n",
              "\n",
              "      <script>\n",
              "        const buttonEl =\n",
              "          document.querySelector('#df-04c6b926-a539-4c40-bc62-c99e0507ecb9 button.colab-df-convert');\n",
              "        buttonEl.style.display =\n",
              "          google.colab.kernel.accessAllowed ? 'block' : 'none';\n",
              "\n",
              "        async function convertToInteractive(key) {\n",
              "          const element = document.querySelector('#df-04c6b926-a539-4c40-bc62-c99e0507ecb9');\n",
              "          const dataTable =\n",
              "            await google.colab.kernel.invokeFunction('convertToInteractive',\n",
              "                                                     [key], {});\n",
              "          if (!dataTable) return;\n",
              "\n",
              "          const docLinkHtml = 'Like what you see? Visit the ' +\n",
              "            '<a target=\"_blank\" href=https://colab.research.google.com/notebooks/data_table.ipynb>data table notebook</a>'\n",
              "            + ' to learn more about interactive tables.';\n",
              "          element.innerHTML = '';\n",
              "          dataTable['output_type'] = 'display_data';\n",
              "          await google.colab.output.renderOutput(dataTable, element);\n",
              "          const docLink = document.createElement('div');\n",
              "          docLink.innerHTML = docLinkHtml;\n",
              "          element.appendChild(docLink);\n",
              "        }\n",
              "      </script>\n",
              "    </div>\n",
              "  </div>\n",
              "  "
            ]
          },
          "metadata": {},
          "execution_count": 27
        }
      ]
    },
    {
      "cell_type": "code",
      "source": [
        "# create a bar plot of conversion rates of the old users and the new users\n",
        "sns.catplot(x='new_user', y='convert_rate', data=convert_new_user, kind='bar')\n",
        "plt.show()"
      ],
      "metadata": {
        "colab": {
          "base_uri": "https://localhost:8080/",
          "height": 365
        },
        "id": "ScNyqZHUa9YI",
        "outputId": "f0727002-1213-44ac-e083-3002a6bb469c"
      },
      "execution_count": 28,
      "outputs": [
        {
          "output_type": "display_data",
          "data": {
            "text/plain": [
              "<Figure size 360x360 with 1 Axes>"
            ],
            "image/png": "[encoded data removed]"
          },
          "metadata": {}
        }
      ]
    },
    {
      "cell_type": "markdown",
      "source": [
        "__Finding:__\n",
        "* The conversion rate of the old users was 7 times higher than the new users."
      ],
      "metadata": {
        "id": "ELHuXAQ2b5s2"
      }
    },
    {
      "cell_type": "markdown",
      "source": [
        "### 1.3 Summary of Findings From EDA"
      ],
      "metadata": {
        "id": "JieQezKJ792O"
      }
    },
    {
      "cell_type": "markdown",
      "source": [
        "__Country:__\n",
        "* Our users were from 4 different countries: the US, China, the UK and Germany. Almost 1/2 of the users were from the US, while Germany had the least user base, and China and the UK were in between.\n",
        "* Although the users from Germany were the least, Germany had the highest conversion rate.\n",
        "* China had the second largest user base, but the conversion rate was significantly lower than the other 3 countries.\n",
        "* Although the user base of the US was bigger than the UK, the conversion rate of the US was lower than that of the UK.  \n",
        "\n",
        "\n",
        "__Marketing source:__\n",
        "* Our users came to our website through 3 different marketing channel sources, and roughly 1/2 of the users came to our website by clicking on search results. The ads source was slightly better than the direct source.  \n",
        "* The ads source had the biggest conversion rate, while the direct source had the least. The conversion rate of the seo source was close to that of the ads source.  \n",
        "\n",
        "\n",
        "__Age:__\n",
        "* The minimum, median, and 75% percentile of user age were 17, 30, and 36 years old respectively, which indicates our users were mainly young adults.\n",
        "* Most of our users were aged 20 - 40 years old.\n",
        "* The converted users were overall younger than the unconverted users.\n",
        "* Age had a 4th-degree polynomial curvilinear relationship with the number of converted users.  \n",
        "\n",
        "\n",
        "__Engagement:__\n",
        "* Users visited 4.87 pages on average during the session.\n",
        "* Most users visited 1-7 pages during the session.\n",
        "* The converted users overall had more engagement than the unconverted users.\n",
        "* Most converted users visited 12-17 pages during the session.\n",
        "* The total number of pages visited by a user during the session had a 4th-degree polynomial curvilinear relationship with the number of converted users.  \n",
        "\n",
        "\n",
        "__New user:__\n",
        "* Roughly 2/3 of the users were new users.\n",
        "* The conversion rate of the old users was 7 times higher than the new users.  \n",
        "\n",
        "\n",
        "__Conversion:__\n",
        "* Only 3.2% of the users were converted."
      ],
      "metadata": {
        "id": "xfsaBgwTe67J"
      }
    }
  ]
}